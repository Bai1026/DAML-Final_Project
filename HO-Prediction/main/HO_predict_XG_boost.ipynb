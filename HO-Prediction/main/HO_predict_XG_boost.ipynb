{
 "cells": [
  {
   "cell_type": "code",
   "execution_count": 1,
   "metadata": {
    "id": "Crd2rvUda7B_"
   },
   "outputs": [],
   "source": [
    "import numpy as np # linear algebra\n",
    "import pandas as pd # data processing, CSV file I/O (e.g. pd.read_csv)\n",
    "import os\n",
    "import matplotlib.pyplot as plt\n",
    "import xgboost as xgb\n",
    "from tqdm.notebook import tqdm\n",
    "\n",
    "# from xgboost import plot_importance, plot_tree\n",
    "\n",
    "# from sklearn.model_selection import TimeSeriesSplit, GridSearchCV\n",
    "from sklearn.metrics import auc, precision_recall_curve\n",
    "from sklearn.metrics import roc_curve, auc\n",
    "from sklearn.metrics import f1_score\n",
    "from sklearn.metrics import mean_squared_error, mean_absolute_error\n",
    "\n",
    "import torch\n",
    "import random\n",
    "\n",
    "plt.style.use('fivethirtyeight')"
   ]
  },
  {
   "cell_type": "code",
   "execution_count": 3,
   "metadata": {},
   "outputs": [
    {
     "name": "stdout",
     "output_type": "stream",
     "text": [
      "# ex.\n",
      "# Now in use: ccc\n",
      "# Start time: 03/31 12:00\n",
      "# Estimated end time(option): 03/31 18:00\n",
      "\n",
      "Now in use:  \n",
      "Start time:  \n",
      "Estimated end time(option):          \n",
      "\n",
      "Next one who want to use:  \n",
      "Estimated start time: \n",
      "Estimated end time(option): \n",
      "\n"
     ]
    }
   ],
   "source": [
    "!cat ~/user_state"
   ]
  },
  {
   "cell_type": "code",
   "execution_count": 4,
   "metadata": {
    "colab": {
     "base_uri": "https://localhost:8080/"
    },
    "id": "ElQmwPsew9Bi",
    "outputId": "86570616-ff9c-401d-e7c3-7299702aa969"
   },
   "outputs": [
    {
     "name": "stdout",
     "output_type": "stream",
     "text": [
      "Mon Jul 24 15:33:46 2023       \n",
      "+---------------------------------------------------------------------------------------+\n",
      "| NVIDIA-SMI 530.30.02              Driver Version: 530.30.02    CUDA Version: 12.1     |\n",
      "|-----------------------------------------+----------------------+----------------------+\n",
      "| GPU  Name                  Persistence-M| Bus-Id        Disp.A | Volatile Uncorr. ECC |\n",
      "| Fan  Temp  Perf            Pwr:Usage/Cap|         Memory-Usage | GPU-Util  Compute M. |\n",
      "|                                         |                      |               MIG M. |\n",
      "|=========================================+======================+======================|\n",
      "|   0  NVIDIA GeForce RTX 4090         On | 00000000:01:00.0 Off |                  Off |\n",
      "|  0%   50C    P8               38W / 480W|      6MiB / 24564MiB |      0%      Default |\n",
      "|                                         |                      |                  N/A |\n",
      "+-----------------------------------------+----------------------+----------------------+\n",
      "                                                                                         \n",
      "+---------------------------------------------------------------------------------------+\n",
      "| Processes:                                                                            |\n",
      "|  GPU   GI   CI        PID   Type   Process name                            GPU Memory |\n",
      "|        ID   ID                                                             Usage      |\n",
      "|=======================================================================================|\n",
      "|    0   N/A  N/A      1158      G   /usr/lib/xorg/Xorg                            4MiB |\n",
      "+---------------------------------------------------------------------------------------+\n"
     ]
    }
   ],
   "source": [
    "!nvidia-smi"
   ]
  },
  {
   "attachments": {},
   "cell_type": "markdown",
   "metadata": {},
   "source": [
    "# Functions"
   ]
  },
  {
   "cell_type": "code",
   "execution_count": 5,
   "metadata": {},
   "outputs": [],
   "source": [
    "def ts_array_create(dirname, dir_list, time_seq):\n",
    "    \n",
    "    columns = ['RSRP', 'RSRQ', 'RSRP1', 'RSRQ1', 'RSRP2', 'RSRQ2',\n",
    "               'nr-RSRP', 'nr-RSRQ', 'nr-RSRP1', 'nr-RSRQ1', 'nr-RSRP2', 'nr-RSRQ2']\n",
    "    \n",
    "    def reamin_HO_time(y_train):\n",
    "        def f(L):    \n",
    "            for i, e in enumerate(L):\n",
    "                if e: return i+1\n",
    "            return 0\n",
    "\n",
    "        out = []\n",
    "        for a2 in y_train:\n",
    "            a1_out = []\n",
    "            for a1 in a2:\n",
    "                a1_out.append(a1.any())\n",
    "      \n",
    "            out.append(f(a1_out))\n",
    "        return out\n",
    "    \n",
    "    def HO(y_train):\n",
    "        out = []\n",
    "        for a2 in y_train:\n",
    "            if sum(a2.reshape(-1)) == 0: ho = 0\n",
    "            elif sum(a2.reshape(-1)) > 0: ho = 1\n",
    "            out.append(ho)\n",
    "        return out\n",
    "\n",
    "    split_time = []\n",
    "    for i, f in enumerate(tqdm(dir_list)):\n",
    "    \n",
    "        f = os.path.join(dirname, f)\n",
    "        df = pd.read_csv(f)\n",
    "\n",
    "        # preprocess data with ffill method\n",
    "        del df['Timestamp'], df['lat'], df['long'], df['gpsspeed']\n",
    "        # df[columns] = df[columns].replace(0, np.nan)\n",
    "        # df[columns] = df[columns].fillna(method='ffill')\n",
    "        # df.dropna(inplace=True)\n",
    "        \n",
    "        df.replace(np.nan,0,inplace=True); df.replace('-',0,inplace=True)\n",
    "        \n",
    "        X = df[features]\n",
    "        Y = df[target]\n",
    "\n",
    "        Xt_list = []\n",
    "        Yt_list = []\n",
    "\n",
    "        for j in range(time_seq):\n",
    "            X_t = X.shift(periods=-j)\n",
    "            Xt_list.append(X_t)\n",
    "    \n",
    "        for j in range(time_seq,time_seq+predict_t):\n",
    "            Y_t = Y.shift(periods=-(j))\n",
    "            Yt_list.append(Y_t)\n",
    "\n",
    "        # YY = Y.shift(periods=-(0))\n",
    "\n",
    "        X_ts = np.array(Xt_list); X_ts = np.transpose(X_ts, (1,0,2)); X_ts = X_ts[:-(time_seq+predict_t-1),:,:]\n",
    "        Y_ts = np.array(Yt_list); Y_ts = np.transpose(Y_ts, (1,0,2)); Y_ts = Y_ts[:-(time_seq+predict_t-1),:,:]\n",
    "        split_time.append(len(X_ts))\n",
    "\n",
    "        if i == 0:\n",
    "            X_final = X_ts\n",
    "            Y_final = Y_ts\n",
    "        else:\n",
    "            X_final = np.concatenate((X_final,X_ts), axis=0)\n",
    "            Y_final = np.concatenate((Y_final,Y_ts), axis=0)\n",
    "\n",
    "    split_time = [(sum(split_time[:i]), sum(split_time[:i])+x) for i, x in enumerate(split_time)]\n",
    "    \n",
    "    return X_final, np.array(HO(Y_final)), np.array(reamin_HO_time(Y_final)), split_time # forecast HO\n"
   ]
  },
  {
   "cell_type": "code",
   "execution_count": 6,
   "metadata": {},
   "outputs": [],
   "source": [
    "def days_in_file(file, dates):\n",
    "    \n",
    "    for date in dates:\n",
    "        if date in file: return True \n",
    "    return False\n",
    "\n",
    "def train_valid_split(L, valid_size=0.2):\n",
    "    \n",
    "    length = len(L)\n",
    "    v_num = int(length*valid_size)\n",
    "    v_files = random.sample(L, v_num)\n",
    "    t_files = list(set(L) - set(v_files))\n",
    "    \n",
    "    return t_files, v_files\n",
    "\n",
    "def set_seed(seed):\n",
    "    np.random.seed(seed)\n",
    "    random.seed(seed)\n",
    "    print(f\"Random seed set as {seed}\")"
   ]
  },
  {
   "attachments": {},
   "cell_type": "markdown",
   "metadata": {},
   "source": [
    "# Load Data"
   ]
  },
  {
   "cell_type": "code",
   "execution_count": 125,
   "metadata": {
    "id": "PqFfaTJ6oNw3"
   },
   "outputs": [],
   "source": [
    "# Time sequence length and prediction time length\n",
    "seed = 55688\n",
    "time_seq = 20\n",
    "predict_t = 10\n",
    "valid_ratio = 0.2\n",
    "task = 'classification'"
   ]
  },
  {
   "cell_type": "code",
   "execution_count": 126,
   "metadata": {
    "colab": {
     "base_uri": "https://localhost:8080/",
     "height": 133,
     "referenced_widgets": [
      "a8fda64c546e4b348c749f051194faba",
      "5636d2bb0cd449b48d116d3298d58bee",
      "e8d4d6ecd06a4e5db72690a07218e55b",
      "96b79b33bdcb44be81a3c4d7ac67003e",
      "f50b59266ff241b79ff92690b3639788",
      "ebc772528cf84271998836470aeba36c",
      "678f5fea727e457a8c870f25ff6a05cf",
      "b1d6f2469ad440fc83453f57a549a91e",
      "5bbf1cb462d049ad88d8499bab6cc95b",
      "4d1d9bc4b7cf4c7fa24ead7c520b89ec",
      "a62edc7a241244888ba8a015c9bda9e2",
      "c2a1a91fd6634e5297125ba0837fee03",
      "b5375aa7864748c89a420c181e6c91af",
      "7bcca89101404ec5934817decb555743",
      "0b790cbe3fbb4473a6a2032f3289978c",
      "e7534fee1e8c4b099c1922e2360d5459",
      "40d6481fc76a434684edc487e01598d7",
      "3f3f3722cda848e4bd9d91dab9d5a039",
      "b0bc8f855a78471f8dce833c0fc5c784",
      "73cf02420329491992b68f57829cdbc2",
      "da193c2493f94ffa83f9515c593dec7b",
      "e52a8d7a89ef4e69a51ec0beba114f88"
     ]
    },
    "id": "20Oas-k6bdVU",
    "outputId": "24686519-a87e-4754-8c74-b376967a7109"
   },
   "outputs": [
    {
     "name": "stdout",
     "output_type": "stream",
     "text": [
      "Random seed set as 55688\n",
      "GPU 0: NVIDIA GeForce RTX 4090\n",
      "Loading training data...\n"
     ]
    },
    {
     "data": {
      "application/vnd.jupyter.widget-view+json": {
       "model_id": "0c17a5a4dfe4480f8bce53845f457e51",
       "version_major": 2,
       "version_minor": 0
      },
      "text/plain": [
       "  0%|          | 0/116 [00:00<?, ?it/s]"
      ]
     },
     "metadata": {},
     "output_type": "display_data"
    },
    {
     "name": "stdout",
     "output_type": "stream",
     "text": [
      "Loading testing data...\n"
     ]
    },
    {
     "data": {
      "application/vnd.jupyter.widget-view+json": {
       "model_id": "a8ef3b8fee4b44ada180741c8b9083cb",
       "version_major": 2,
       "version_minor": 0
      },
      "text/plain": [
       "  0%|          | 0/29 [00:00<?, ?it/s]"
      ]
     },
     "metadata": {},
     "output_type": "display_data"
    }
   ],
   "source": [
    "# Setup seed\n",
    "set_seed(seed)\n",
    "\n",
    "# Get GPU\n",
    "device_count = torch.cuda.device_count()\n",
    "num_of_gpus = device_count\n",
    "\n",
    "for i in range(device_count):\n",
    "    print(\"GPU {}: {}\".format(i, torch.cuda.get_device_name(i)))\n",
    "    gpu_id = i\n",
    "\n",
    "# Save best model to \n",
    "save_path = \"../model\"\n",
    "\n",
    "# Define DataSet\n",
    "dirname = \"../data/single\"\n",
    "# dirname = \"/home/wmnlab/Documents/sheng-ru/data/single0.5\"\n",
    "dir_list = os.listdir(dirname)\n",
    "dir_list = [f for f in dir_list if ( f.endswith('.csv') and (not 'sm' in f) ) ]\n",
    "\n",
    "# train_dates = ['03-26', '04-01']\n",
    "# test_dates = ['04-10']\n",
    "    \n",
    "# train_dir_list = [f for f in dir_list if ( f.endswith('.csv') and ('All' in f) and days_in_file(f, train_dates) )]\n",
    "# test_dir_list = [f for f in dir_list if ( f.endswith('.csv') and ('All' in f) and days_in_file(f, test_dates) )]\n",
    "\n",
    "train_dir_list, test_dir_list = train_valid_split(dir_list, valid_ratio)\n",
    "# train_dir_list += [f for f in os.listdir(dirname) if 'sm' in f]\n",
    "\n",
    "# Select which feature to use.\n",
    "# features = ['LTE_HO', 'MN_HO', 'eNB_to_ENDC', 'gNB_Rel', 'gNB_HO', 'RLF', 'SCG_RLF',\n",
    "#         'num_of_neis', 'RSRP', 'RSRQ', 'RSRP1', 'RSRQ1', 'RSRP2', 'RSRQ2',\n",
    "#         'nr-RSRP', 'nr-RSRQ', 'nr-RSRP1', 'nr-RSRQ1', 'nr-RSRP2', 'nr-RSRQ2' ]\n",
    "features = ['LTE_HO', 'MN_HO', 'eNB_to_ENDC', 'gNB_Rel', 'gNB_HO', 'RLF', 'SCG_RLF',\n",
    "        'num_of_neis', 'RSRP', 'RSRQ', 'RSRP1', 'RSRQ1','nr-RSRP', 'nr-RSRQ', 'nr-RSRP1', 'nr-RSRQ1']\n",
    "# features = ['LTE_HO', 'MN_HO', 'eNB_to_ENDC', 'gNB_Rel', 'gNB_HO', 'RLF', 'SCG_RLF',\n",
    "#         'num_of_neis', 'RSRP', 'RSRQ', 'RSRP1', 'RSRQ1', 'RSRP2', 'RSRQ2']\n",
    "\n",
    "num_of_features = len(features)\n",
    "\n",
    "target = ['LTE_HO', 'MN_HO'] # For eNB HO.\n",
    "# target = ['eNB_to_ENDC'] # Setup gNB\n",
    "# target = ['gNB_Rel', 'gNB_HO'] # For gNB HO.\n",
    "# target = ['RLF'] # For RLF\n",
    "# target = ['SCG_RLF'] # For scg failure\n",
    "# target = ['dl-loss'] # For DL loss\n",
    "# target = ['ul-loss'] # For UL loss\n",
    "\n",
    "# Data\n",
    "print('Loading training data...')\n",
    "X_train, y_train1, y_train2, split_time_train = ts_array_create(dirname, train_dir_list, time_seq)\n",
    "X_train_2d = X_train.reshape(-1, time_seq*num_of_features)\n",
    "cond = y_train2 > 0\n",
    "X_train_fore = X_train_2d[cond]\n",
    "y_train2_fore = y_train2[cond]\n",
    "\n",
    "\n",
    "print('Loading testing data...')\n",
    "X_test, y_test1, y_test2, split_time_test = ts_array_create(dirname, test_dir_list, time_seq)\n",
    "X_test_2d = X_test.reshape(-1, time_seq*num_of_features)\n",
    "cond = y_test2 > 0\n",
    "X_test_fore = X_test_2d[cond]\n",
    "y_test2_fore = y_test2[cond]\n",
    "\n",
    "# xgb DMatrix\n",
    "train_data1 = xgb.DMatrix(X_train_2d, label=y_train1)\n",
    "train_data2 = xgb.DMatrix(X_train_fore, label=y_train2_fore)\n",
    "\n",
    "test_data1 = xgb.DMatrix(X_test_2d, label=y_test1)\n",
    "test_data2 = xgb.DMatrix(X_test_fore, label=y_test2_fore)"
   ]
  },
  {
   "cell_type": "code",
   "execution_count": 127,
   "metadata": {},
   "outputs": [
    {
     "data": {
      "text/plain": [
       "((29983,), (29983,))"
      ]
     },
     "execution_count": 127,
     "metadata": {},
     "output_type": "execute_result"
    }
   ],
   "source": [
    "y_train1.shape, y_train2.shape\n"
   ]
  },
  {
   "cell_type": "code",
   "execution_count": 128,
   "metadata": {
    "id": "1tK2m5iv2nJ4"
   },
   "outputs": [],
   "source": [
    "# X_train.shape, X_train_2d.shape\n",
    "# train_dir_list, test_dir_list"
   ]
  },
  {
   "attachments": {},
   "cell_type": "markdown",
   "metadata": {},
   "source": [
    "### Classification"
   ]
  },
  {
   "cell_type": "code",
   "execution_count": 129,
   "metadata": {
    "id": "iWYmCLBkAAZA"
   },
   "outputs": [],
   "source": [
    "# Parameters\n",
    "lr = 0.3\n",
    "max_d = 7\n",
    "n_esti = 200\n",
    "subsample = 1\n",
    "colsample_bytree = 0.9\n",
    "reg_alpha = 0.5\n",
    "gamma = 0.1\n",
    "valid_ratio = 0.2\n",
    "\n",
    "params = {'objective': 'binary:logistic', \"tree_method\": \"gpu_hist\", 'eta': lr, 'max_depth': max_d,\n",
    "            'subsample': subsample, 'colsample_bytree': colsample_bytree, 'alpha': reg_alpha,'gamma': gamma,  \n",
    "            'seed': seed,'eval_metric': ['error','logloss','aucpr']}"
   ]
  },
  {
   "cell_type": "code",
   "execution_count": 130,
   "metadata": {
    "colab": {
     "base_uri": "https://localhost:8080/"
    },
    "id": "ifdrrI3W3LQh",
    "outputId": "b9101f06-8a85-42c3-d3f2-123fe0630636"
   },
   "outputs": [
    {
     "name": "stdout",
     "output_type": "stream",
     "text": [
      "[0]\ttrain-error:0.30437\ttrain-logloss:0.64032\ttrain-aucpr:0.70953\tvalid-error:0.36635\tvalid-logloss:0.65789\tvalid-aucpr:0.61087\n",
      "[1]\ttrain-error:0.26085\ttrain-logloss:0.59768\ttrain-aucpr:0.77252\tvalid-error:0.33540\tvalid-logloss:0.63043\tvalid-aucpr:0.66093\n",
      "[2]\ttrain-error:0.23173\ttrain-logloss:0.56135\ttrain-aucpr:0.81164\tvalid-error:0.31695\tvalid-logloss:0.60427\tvalid-aucpr:0.69756\n",
      "[3]\ttrain-error:0.22073\ttrain-logloss:0.53614\ttrain-aucpr:0.83003\tvalid-error:0.30088\tvalid-logloss:0.58745\tvalid-aucpr:0.71865\n",
      "[4]\ttrain-error:0.20585\ttrain-logloss:0.51061\ttrain-aucpr:0.84829\tvalid-error:0.28995\tvalid-logloss:0.57105\tvalid-aucpr:0.72917\n",
      "[5]\ttrain-error:0.20382\ttrain-logloss:0.50000\ttrain-aucpr:0.85259\tvalid-error:0.28969\tvalid-logloss:0.56430\tvalid-aucpr:0.73665\n",
      "[6]\ttrain-error:0.19284\ttrain-logloss:0.48204\ttrain-aucpr:0.86576\tvalid-error:0.28099\tvalid-logloss:0.55352\tvalid-aucpr:0.74774\n",
      "[7]\ttrain-error:0.18901\ttrain-logloss:0.47250\ttrain-aucpr:0.87126\tvalid-error:0.27901\tvalid-logloss:0.54873\tvalid-aucpr:0.75125\n",
      "[8]\ttrain-error:0.18320\ttrain-logloss:0.45918\ttrain-aucpr:0.87825\tvalid-error:0.27243\tvalid-logloss:0.54024\tvalid-aucpr:0.76068\n",
      "[9]\ttrain-error:0.17650\ttrain-logloss:0.45058\ttrain-aucpr:0.88496\tvalid-error:0.27190\tvalid-logloss:0.53750\tvalid-aucpr:0.76313\n",
      "[10]\ttrain-error:0.17303\ttrain-logloss:0.44256\ttrain-aucpr:0.88957\tvalid-error:0.26782\tvalid-logloss:0.53177\tvalid-aucpr:0.76800\n",
      "[11]\ttrain-error:0.16663\ttrain-logloss:0.43208\ttrain-aucpr:0.89705\tvalid-error:0.26123\tvalid-logloss:0.52685\tvalid-aucpr:0.77084\n",
      "[12]\ttrain-error:0.16102\ttrain-logloss:0.42399\ttrain-aucpr:0.90339\tvalid-error:0.25912\tvalid-logloss:0.52338\tvalid-aucpr:0.77422\n",
      "[13]\ttrain-error:0.15569\ttrain-logloss:0.41165\ttrain-aucpr:0.91029\tvalid-error:0.25491\tvalid-logloss:0.51517\tvalid-aucpr:0.78174\n",
      "[14]\ttrain-error:0.14658\ttrain-logloss:0.40185\ttrain-aucpr:0.91615\tvalid-error:0.25122\tvalid-logloss:0.51277\tvalid-aucpr:0.78399\n",
      "[15]\ttrain-error:0.14095\ttrain-logloss:0.39004\ttrain-aucpr:0.92215\tvalid-error:0.25082\tvalid-logloss:0.50853\tvalid-aucpr:0.78713\n",
      "[16]\ttrain-error:0.13374\ttrain-logloss:0.37996\ttrain-aucpr:0.92816\tvalid-error:0.24674\tvalid-logloss:0.50361\tvalid-aucpr:0.79279\n",
      "[17]\ttrain-error:0.13144\ttrain-logloss:0.37524\ttrain-aucpr:0.93097\tvalid-error:0.24648\tvalid-logloss:0.50152\tvalid-aucpr:0.79474\n",
      "[18]\ttrain-error:0.12831\ttrain-logloss:0.36860\ttrain-aucpr:0.93411\tvalid-error:0.24700\tvalid-logloss:0.49937\tvalid-aucpr:0.79575\n",
      "[19]\ttrain-error:0.12671\ttrain-logloss:0.36587\ttrain-aucpr:0.93570\tvalid-error:0.24516\tvalid-logloss:0.49817\tvalid-aucpr:0.79669\n",
      "[20]\ttrain-error:0.12420\ttrain-logloss:0.36149\ttrain-aucpr:0.93803\tvalid-error:0.24490\tvalid-logloss:0.49684\tvalid-aucpr:0.79953\n",
      "[21]\ttrain-error:0.11970\ttrain-logloss:0.35305\ttrain-aucpr:0.94169\tvalid-error:0.24068\tvalid-logloss:0.49298\tvalid-aucpr:0.80271\n",
      "[22]\ttrain-error:0.11540\ttrain-logloss:0.34387\ttrain-aucpr:0.94539\tvalid-error:0.23831\tvalid-logloss:0.48970\tvalid-aucpr:0.80470\n",
      "[23]\ttrain-error:0.11386\ttrain-logloss:0.34064\ttrain-aucpr:0.94683\tvalid-error:0.23897\tvalid-logloss:0.48828\tvalid-aucpr:0.80609\n",
      "[24]\ttrain-error:0.10809\ttrain-logloss:0.33143\ttrain-aucpr:0.95121\tvalid-error:0.23686\tvalid-logloss:0.48508\tvalid-aucpr:0.80782\n",
      "[25]\ttrain-error:0.10706\ttrain-logloss:0.32925\ttrain-aucpr:0.95209\tvalid-error:0.23528\tvalid-logloss:0.48527\tvalid-aucpr:0.80745\n",
      "[26]\ttrain-error:0.10399\ttrain-logloss:0.32172\ttrain-aucpr:0.95489\tvalid-error:0.23725\tvalid-logloss:0.48383\tvalid-aucpr:0.80855\n",
      "[27]\ttrain-error:0.10032\ttrain-logloss:0.31563\ttrain-aucpr:0.95721\tvalid-error:0.23581\tvalid-logloss:0.48212\tvalid-aucpr:0.81069\n",
      "[28]\ttrain-error:0.09712\ttrain-logloss:0.30996\ttrain-aucpr:0.95912\tvalid-error:0.23752\tvalid-logloss:0.48028\tvalid-aucpr:0.81236\n",
      "[29]\ttrain-error:0.09452\ttrain-logloss:0.30563\ttrain-aucpr:0.96095\tvalid-error:0.23673\tvalid-logloss:0.47930\tvalid-aucpr:0.81278\n",
      "[30]\ttrain-error:0.09065\ttrain-logloss:0.29891\ttrain-aucpr:0.96410\tvalid-error:0.23370\tvalid-logloss:0.47832\tvalid-aucpr:0.81391\n",
      "[31]\ttrain-error:0.08785\ttrain-logloss:0.29309\ttrain-aucpr:0.96623\tvalid-error:0.23343\tvalid-logloss:0.47602\tvalid-aucpr:0.81568\n",
      "[32]\ttrain-error:0.08395\ttrain-logloss:0.28735\ttrain-aucpr:0.96855\tvalid-error:0.23172\tvalid-logloss:0.47355\tvalid-aucpr:0.81760\n",
      "[33]\ttrain-error:0.08275\ttrain-logloss:0.28486\ttrain-aucpr:0.96921\tvalid-error:0.23067\tvalid-logloss:0.47290\tvalid-aucpr:0.81813\n",
      "[34]\ttrain-error:0.08181\ttrain-logloss:0.28209\ttrain-aucpr:0.97007\tvalid-error:0.23119\tvalid-logloss:0.47171\tvalid-aucpr:0.81928\n",
      "[35]\ttrain-error:0.07981\ttrain-logloss:0.27828\ttrain-aucpr:0.97148\tvalid-error:0.22869\tvalid-logloss:0.47123\tvalid-aucpr:0.82001\n",
      "[36]\ttrain-error:0.07838\ttrain-logloss:0.27572\ttrain-aucpr:0.97248\tvalid-error:0.22935\tvalid-logloss:0.47096\tvalid-aucpr:0.82036\n",
      "[37]\ttrain-error:0.07791\ttrain-logloss:0.27416\ttrain-aucpr:0.97287\tvalid-error:0.22869\tvalid-logloss:0.46985\tvalid-aucpr:0.82153\n",
      "[38]\ttrain-error:0.07508\ttrain-logloss:0.26837\ttrain-aucpr:0.97508\tvalid-error:0.22922\tvalid-logloss:0.46962\tvalid-aucpr:0.82147\n",
      "[39]\ttrain-error:0.07211\ttrain-logloss:0.26443\ttrain-aucpr:0.97641\tvalid-error:0.22751\tvalid-logloss:0.46872\tvalid-aucpr:0.82190\n",
      "[40]\ttrain-error:0.07064\ttrain-logloss:0.26175\ttrain-aucpr:0.97703\tvalid-error:0.22606\tvalid-logloss:0.46857\tvalid-aucpr:0.82159\n",
      "[41]\ttrain-error:0.06887\ttrain-logloss:0.25840\ttrain-aucpr:0.97790\tvalid-error:0.22658\tvalid-logloss:0.46815\tvalid-aucpr:0.82171\n",
      "[42]\ttrain-error:0.06700\ttrain-logloss:0.25385\ttrain-aucpr:0.97923\tvalid-error:0.22303\tvalid-logloss:0.46657\tvalid-aucpr:0.82304\n",
      "[43]\ttrain-error:0.06387\ttrain-logloss:0.24879\ttrain-aucpr:0.98062\tvalid-error:0.22355\tvalid-logloss:0.46551\tvalid-aucpr:0.82367\n",
      "[44]\ttrain-error:0.06210\ttrain-logloss:0.24413\ttrain-aucpr:0.98187\tvalid-error:0.22237\tvalid-logloss:0.46482\tvalid-aucpr:0.82428\n",
      "[45]\ttrain-error:0.06103\ttrain-logloss:0.24009\ttrain-aucpr:0.98263\tvalid-error:0.22329\tvalid-logloss:0.46391\tvalid-aucpr:0.82472\n",
      "[46]\ttrain-error:0.05800\ttrain-logloss:0.23447\ttrain-aucpr:0.98386\tvalid-error:0.22092\tvalid-logloss:0.46131\tvalid-aucpr:0.82699\n",
      "[47]\ttrain-error:0.05680\ttrain-logloss:0.23214\ttrain-aucpr:0.98438\tvalid-error:0.22066\tvalid-logloss:0.46076\tvalid-aucpr:0.82722\n",
      "[48]\ttrain-error:0.05556\ttrain-logloss:0.22876\ttrain-aucpr:0.98531\tvalid-error:0.21947\tvalid-logloss:0.46015\tvalid-aucpr:0.82804\n",
      "[49]\ttrain-error:0.05360\ttrain-logloss:0.22537\ttrain-aucpr:0.98622\tvalid-error:0.21842\tvalid-logloss:0.46085\tvalid-aucpr:0.82668\n",
      "[50]\ttrain-error:0.05236\ttrain-logloss:0.22170\ttrain-aucpr:0.98692\tvalid-error:0.21749\tvalid-logloss:0.46131\tvalid-aucpr:0.82596\n",
      "[51]\ttrain-error:0.05030\ttrain-logloss:0.21797\ttrain-aucpr:0.98771\tvalid-error:0.21828\tvalid-logloss:0.46037\tvalid-aucpr:0.82651\n",
      "[52]\ttrain-error:0.04796\ttrain-logloss:0.21428\ttrain-aucpr:0.98847\tvalid-error:0.21815\tvalid-logloss:0.45998\tvalid-aucpr:0.82727\n"
     ]
    }
   ],
   "source": [
    "evals_result = {}\n",
    "model = xgb.train(\n",
    "    params=params,\n",
    "    dtrain=train_data1,\n",
    "    num_boost_round=n_esti,\n",
    "    evals=[(train_data1, 'train'), (test_data1, 'valid')],\n",
    "    evals_result=evals_result,\n",
    "    early_stopping_rounds=5,\n",
    "    # verbose_eval=False\n",
    ")\n"
   ]
  },
  {
   "cell_type": "code",
   "execution_count": 131,
   "metadata": {},
   "outputs": [],
   "source": [
    "# # plot evaluation metrics\n",
    "# epochs = len(evals_result['train']['error'])\n",
    "# x_axis = range(0, epochs)\n",
    "\n",
    "# fig, ax = plt.subplots()\n",
    "# ax.plot(x_axis, evals_result['train']['error'], label='Train')\n",
    "# ax.plot(x_axis, evals_result['valid']['error'], label='valid')\n",
    "# ax.legend()\n",
    "# plt.ylabel('Error')\n",
    "# plt.title('XGBoost Error')\n",
    "\n",
    "# # plot log loss\n",
    "# fig, ax = plt.subplots()\n",
    "# ax.plot(x_axis, evals_result['train']['logloss'], label='Train')\n",
    "# ax.plot(x_axis, evals_result['valid']['logloss'], label='valid')\n",
    "# ax.legend()\n",
    "# plt.ylabel('Log Loss')\n",
    "# plt.title('XGBoost Log Loss')\n",
    "\n",
    "# # plot log loss\n",
    "# fig, ax = plt.subplots()\n",
    "# ax.plot(x_axis, evals_result['train']['aucpr'], label='Train')\n",
    "# ax.plot(x_axis, evals_result['valid']['aucpr'], label='valid')\n",
    "# ax.legend()\n",
    "# plt.ylabel('aucpr')\n",
    "# plt.title('XGBoost aucpr')\n",
    "\n",
    "# plt.show()"
   ]
  },
  {
   "cell_type": "code",
   "execution_count": 132,
   "metadata": {},
   "outputs": [],
   "source": [
    "preds = model.predict(test_data1)"
   ]
  },
  {
   "cell_type": "code",
   "execution_count": 133,
   "metadata": {
    "colab": {
     "base_uri": "https://localhost:8080/",
     "height": 496
    },
    "id": "iG6MFd4MFE6b",
    "outputId": "16455e4a-d236-45bd-8e76-d8c889425148"
   },
   "outputs": [
    {
     "name": "stdout",
     "output_type": "stream",
     "text": [
      "th: 0.2; Acc: 69.71413516005796; precision: 0.6; recall:0.94; f1:0.73\n",
      "th: 0.3; Acc: 75.35239098932946; precision: 0.66; recall:0.89; f1:0.76\n",
      "th: 0.4; Acc: 77.46015017784218; precision: 0.71; recall:0.83; f1:0.77\n",
      "th: 0.5; Acc: 78.17151890396522; precision: 0.76; recall:0.74; f1:0.75\n",
      "th: 0.6; Acc: 77.27572124884732; precision: 0.8; recall:0.65; f1:0.72\n",
      "th: 0.7; Acc: 75.23382953497563; precision: 0.84; recall:0.54; f1:0.66\n",
      "th: 0.8; Acc: 71.22908707680148; precision: 0.89; recall:0.4; f1:0.55\n"
     ]
    },
    {
     "data": {
      "image/png": "[encoded data removed]",
      "text/plain": [
       "<Figure size 640x480 with 1 Axes>"
      ]
     },
     "metadata": {},
     "output_type": "display_data"
    },
    {
     "data": {
      "image/png": "[encoded data removed]",
      "text/plain": [
       "<Figure size 640x480 with 1 Axes>"
      ]
     },
     "metadata": {},
     "output_type": "display_data"
    },
    {
     "name": "stdout",
     "output_type": "stream",
     "text": [
      "ROC Auc is 0.8621948080729519.\n"
     ]
    },
    {
     "data": {
      "image/png": "[encoded data removed]",
      "text/plain": [
       "<Figure size 640x480 with 1 Axes>"
      ]
     },
     "metadata": {},
     "output_type": "display_data"
    }
   ],
   "source": [
    "# plot all data point on a plot\n",
    "ths = [0.2,0.3,0.4,0.5,0.6,0.7,0.8]\n",
    "\n",
    "if task == 'forecast':\n",
    "    rmse = round(np.sqrt(np.mean((preds-y_test1)**2)), 2)\n",
    "    mae = np.mean(np.abs(preds-np.array(y_test1)))\n",
    "    print(f'RMSE is {rmse}. MAE is {mae}')\n",
    "elif task == 'classification':\n",
    "    # PR and AUCPR\n",
    "    precision, recall, thresholds = precision_recall_curve(y_test1, preds)\n",
    "    aucpr = auc(recall, precision)\n",
    "    \n",
    "    # ROC & AUC\n",
    "    fpr, tpr, thresholds = roc_curve(y_test1, preds)\n",
    "    roc_auc = auc(fpr, tpr)\n",
    "    \n",
    "    # Manually count\n",
    "    for threshold in ths:\n",
    "        TP, FP, TN, FN = 0,0,0,0\n",
    "        anses = np.where(preds<threshold, 0, 1)\n",
    "        for ans, y in zip(anses, y_test1):\n",
    "            if ans == y:\n",
    "                if ans == 1: TP += 1\n",
    "                elif ans == 0: TN +=1\n",
    "            elif ans != y:\n",
    "                if ans == 1: FP += 1\n",
    "                elif ans == 0: FN +=1\n",
    "        acc=(TP+TN)/(TP+TN+FP+FN)*100\n",
    "        try:\n",
    "            p, r = round(TP/(TP+FP), 2), round(TP/(TP+FN), 2)\n",
    "            f1 = round(2*(p*r)/(p+r), 2)\n",
    "        except:\n",
    "            p, r, f1 = 'DNF', 'DNF', 'DNF'\n",
    "        s = f'th: {threshold}; Acc: {acc}; precision: {p}; recall:{r}; f1:{f1}'\n",
    "        print(s)\n",
    "    \n",
    "    # 初始化閥值列表和 F1 Score 列表\n",
    "    thresholds = []\n",
    "    f1_scores = []\n",
    "\n",
    "    # 循環遍歷閥值，計算 F1 Score\n",
    "    for threshold in range(5, 101, 5):\n",
    "        threshold /= 100\n",
    "        y_pred_threshold = [1 if pred >= threshold else 0 for pred in preds]\n",
    "        f1_scores.append(f1_score(y_test1, y_pred_threshold))\n",
    "        thresholds.append(threshold)\n",
    "\n",
    "    # 繪製閥值與 F1 Score 的關係圖\n",
    "    plt.figure()\n",
    "    plt.plot(thresholds, f1_scores, lw=2, label='F1 Score')\n",
    "    plt.xlabel('Threshold')\n",
    "    plt.ylabel('F1 Score')\n",
    "    plt.title('Threshold-F1 Score Relationship')\n",
    "    plt.legend()\n",
    "    plt.show()\n",
    "    \n",
    "    plt.figure()\n",
    "    plt.plot(recall, precision, lw=2, label='PR Curve (AUCPR = %0.2f)' % aucpr)\n",
    "    plt.xlabel('Recall')\n",
    "    plt.ylabel('Precision')\n",
    "    plt.title('Precision-Recall Curve')\n",
    "    plt.legend()\n",
    "    plt.show()\n",
    "    \n",
    "    print(f'ROC Auc is {roc_auc}.')\n",
    "    plt.figure()\n",
    "    plt.plot(fpr, tpr, color='darkorange', lw=2, label='ROC curve (area = %0.2f)' % roc_auc)\n",
    "    plt.plot([0, 1], [0, 1], color='navy', lw=2, linestyle='--')\n",
    "    plt.xlim([0.0, 1.0])\n",
    "    plt.ylim([0.0, 1.05])\n",
    "    plt.title(f'ROC curve')\n",
    "    plt.xlabel('False Positive Rate')\n",
    "    plt.ylabel('True Positive Rate')\n",
    "    plt.legend(loc=\"lower right\")\n",
    "    plt.show()"
   ]
  },
  {
   "cell_type": "code",
   "execution_count": 134,
   "metadata": {},
   "outputs": [
    {
     "data": {
      "image/png": "[encoded data removed]",
      "text/plain": [
       "<Figure size 1400x250 with 2 Axes>"
      ]
     },
     "metadata": {},
     "output_type": "display_data"
    }
   ],
   "source": [
    "# visulized on many sample on validation data\n",
    "sample_value = 2\n",
    "# samples = random.sample(split_time_test, sample_value)\n",
    "samples = [split_time_test[8], split_time_test[9]]\n",
    "\n",
    "fig, axs = plt.subplots(1, sample_value, figsize=(14, 2.5))\n",
    "\n",
    "# y_test\n",
    "# preds\n",
    "\n",
    "for i in range(sample_value):\n",
    "    true = [y_test1[i] for i in range(samples[i][0], samples[i][1])]\n",
    "    axs[i].plot(true, label='true')\n",
    "    prediction = [preds[i] for i in range(samples[i][0], samples[i][1])]\n",
    "    # prediction = [1 if preds[i] > 0.5 else 0  for i in range(samples[i][0], samples[i][1])]\n",
    "    # axs[i].plot(prediction, label='pred')\n",
    "\n",
    "plt.legend()\n",
    "plt.show()"
   ]
  },
  {
   "cell_type": "code",
   "execution_count": 135,
   "metadata": {},
   "outputs": [
    {
     "data": {
      "text/plain": [
       "['2023-04-17_qc02_exp2_#01_B1B7.csv', '2023-04-01_qc03_exp1_#05_B8.csv']"
      ]
     },
     "execution_count": 135,
     "metadata": {},
     "output_type": "execute_result"
    }
   ],
   "source": [
    "A = [test_dir_list[split_time_test.index(s)] for s in samples]\n",
    "A"
   ]
  },
  {
   "cell_type": "code",
   "execution_count": 136,
   "metadata": {
    "colab": {
     "base_uri": "https://localhost:8080/",
     "height": 278
    },
    "id": "J7iYV79uxHjd",
    "outputId": "c5b4b1cf-e26e-4679-da90-26a55f9512ba"
   },
   "outputs": [
    {
     "data": {
      "image/png": "[encoded data removed]",
      "text/plain": [
       "<Figure size 1400x250 with 2 Axes>"
      ]
     },
     "metadata": {},
     "output_type": "display_data"
    }
   ],
   "source": [
    "# Check whethet it do good on training data\n",
    "sample_value = 2\n",
    "samples = random.sample(split_time_train, sample_value)\n",
    "preds_train = model.predict(train_data1)\n",
    "\n",
    "fig, axs = plt.subplots(1, sample_value, figsize=(14, 2.5))\n",
    "\n",
    "for i in range(sample_value):\n",
    "    true = [y_train1[i] for i in range(samples[i][0], samples[i][1])]\n",
    "    axs[i].plot(true)\n",
    "    # Plot Handover happen place\n",
    "    arr = [y_train2[i] for i in range(samples[i][0], samples[i][1])]\n",
    "    indices = (np.roll(arr, -1) == 1)\n",
    "    indices[0] = False    \n",
    "    xy = [(i, 1) for i, x in enumerate(indices) if x == True]\n",
    "    x = [a[0] for a in xy]\n",
    "    y = [a[1] for a in xy]\n",
    "    axs[i].scatter(x, y, marker=\"X\", color='red', s=100, zorder=2, label='HO')\n",
    "\n",
    "    axs[i].set_yticks([0, 1])\n",
    "    axs[i].set_xlabel('Time')\n",
    "    prediction = [preds_train[i] for i in range(samples[i][0], samples[i][1])]\n",
    "    # prediction = [1 if preds_train[i] > 0.5 else 0  for i in range(samples[i][0], samples[i][1])]\n",
    "    # axs[i].plot(prediction, label='pred')\n",
    "\n",
    "plt.legend()\n",
    "plt.show()"
   ]
  },
  {
   "attachments": {},
   "cell_type": "markdown",
   "metadata": {},
   "source": [
    "### Forecast"
   ]
  },
  {
   "cell_type": "code",
   "execution_count": null,
   "metadata": {},
   "outputs": [],
   "source": [
    "# Parameters\n",
    "lr = 0.3\n",
    "max_d = 7\n",
    "n_esti = 200\n",
    "subsample = 1\n",
    "colsample_bytree = 0.9\n",
    "reg_alpha = 0.5\n",
    "gamma = 0.1\n",
    "task = 'forecast'\n",
    "\n",
    "params = {\n",
    "        \"objective\": \"reg:squarederror\", \"tree_method\": \"gpu_hist\", 'eta': lr, 'max_depth': max_d,\n",
    "        'subsample': subsample, 'colsample_bytree': colsample_bytree, 'alpha': reg_alpha,'gamma': gamma,  \n",
    "        'seed': seed,'eval_metric': ['rmse', 'mae']\n",
    "        }"
   ]
  },
  {
   "cell_type": "code",
   "execution_count": null,
   "metadata": {},
   "outputs": [],
   "source": [
    "model2 = xgb.train(\n",
    "    params=params,\n",
    "    dtrain=train_data2,\n",
    "    num_boost_round=600,\n",
    "    evals=[(train_data2, 'train'), (test_data2, 'valid')],\n",
    "    early_stopping_rounds=10,\n",
    "    # verbose_eval=False\n",
    ")"
   ]
  },
  {
   "cell_type": "code",
   "execution_count": null,
   "metadata": {},
   "outputs": [],
   "source": [
    "preds2 = model2.predict(test_data2)"
   ]
  },
  {
   "cell_type": "code",
   "execution_count": null,
   "metadata": {},
   "outputs": [],
   "source": [
    "rmse = mean_squared_error(y_test2_fore, preds2, squared=False)\n",
    "mae = mean_absolute_error(y_test2_fore, preds2)\n",
    "rmse, mae"
   ]
  },
  {
   "attachments": {},
   "cell_type": "markdown",
   "metadata": {},
   "source": [
    "# grid search"
   ]
  },
  {
   "attachments": {},
   "cell_type": "markdown",
   "metadata": {},
   "source": [
    "## Search on task"
   ]
  },
  {
   "cell_type": "code",
   "execution_count": null,
   "metadata": {},
   "outputs": [],
   "source": [
    "import itertools"
   ]
  },
  {
   "cell_type": "code",
   "execution_count": null,
   "metadata": {},
   "outputs": [],
   "source": [
    "# Load Data\n",
    "valid_ratio = 0.2\n",
    "task = 'forecast'\n",
    "\n",
    "dir_list = os.listdir(dirname)\n",
    "dir_list = [f for f in dir_list if ( f.endswith('.csv') and (not 'sm' in f) ) ]\n",
    "\n",
    "train_dir_list, test_dir_list = train_valid_split(dir_list, valid_ratio)\n",
    "# train_dir_list += [f for f in os.listdir(dirname) if 'sm' in f]\n",
    "\n",
    "# Select which feature to use.\n",
    "features = ['LTE_HO', 'MN_HO', 'eNB_to_ENDC', 'gNB_Rel', 'gNB_HO', 'RLF', 'SCG_RLF',\n",
    "        'num_of_neis', 'RSRP', 'RSRQ', 'RSRP1', 'RSRQ1','nr-RSRP', 'nr-RSRQ', 'nr-RSRP1', 'nr-RSRQ1']\n",
    "\n",
    "num_of_features = len(features)\n",
    "\n",
    "# Prediction Task\n",
    "target = ['LTE_HO', 'MN_HO'] # For eNB HO.\n",
    "# target = ['eNB_to_ENDC'] # Setup gNB\n",
    "# target = ['gNB_Rel', 'gNB_HO'] # For gNB HO.\n",
    "# target = ['RLF'] # For RLF\n",
    "# target = ['SCG_RLF'] # For scg failure\n",
    "# target = ['dl-loss'] # For DL loss\n",
    "# target = ['ul-loss'] # For UL loss\n",
    "\n",
    " # record file\n",
    "out = '../info/forecast_lte_HO.csv'\n",
    "f_out = open(out, mode='w')\n",
    "cols_out = ['t_seq','t_pred','lr','max_dep','n_esti','subsample','colsample_bytree','reg_alpha','gamma','rmse','mae']\n",
    "f_out.write(','.join(cols_out)+'\\n')\n",
    "\n",
    "time_seqs = [20]\n",
    "predict_ts = list(range(1,31))\n",
    "\n",
    "# Parameters\n",
    "lrs = [0.3]\n",
    "max_ds = [7]\n",
    "n_estis = [200]\n",
    "subsamples = [1]\n",
    "colsample_bytrees = [0.9]\n",
    "reg_alphas = [0.5]\n",
    "gammas = [0.1]\n",
    "        \n",
    "for time_seq, predict_t in itertools.product(time_seqs, predict_ts):\n",
    "\n",
    "        # Data\n",
    "        print('Loading training data...')\n",
    "        X_train, y_train1, y_train2, split_time_train = ts_array_create(dirname, train_dir_list, time_seq)\n",
    "        X_train_2d = X_train.reshape(-1, time_seq*num_of_features)\n",
    "        cond = y_train2 > 0\n",
    "        X_train_fore = X_train_2d[cond]\n",
    "        y_train2_fore = y_train2[cond]\n",
    "\n",
    "\n",
    "        print('Loading testing data...')\n",
    "        X_test, y_test1, y_test2, split_time_test = ts_array_create(dirname, test_dir_list, time_seq)\n",
    "        X_test_2d = X_test.reshape(-1, time_seq*num_of_features)\n",
    "        cond = y_test2 > 0\n",
    "        X_test_fore = X_test_2d[cond]\n",
    "        y_test2_fore = y_test2[cond]\n",
    "\n",
    "        # xgb DMatrix\n",
    "        train_data1 = xgb.DMatrix(X_train_2d, label=y_train1)\n",
    "        train_data2 = xgb.DMatrix(X_train_fore, label=y_train2_fore)\n",
    "\n",
    "        test_data1 = xgb.DMatrix(X_test_2d, label=y_test1)\n",
    "        test_data2 = xgb.DMatrix(X_test_fore, label=y_test2_fore)\n",
    "\n",
    "        for lr, max_d, n_esti, subsample, colsample_bytree, reg_alpha, gamma in itertools.product(lrs, max_ds, n_estis, subsamples, colsample_bytrees, reg_alphas, gammas):\n",
    "\n",
    "                params = {\n",
    "                        \"objective\": \"reg:squarederror\", \"tree_method\": \"gpu_hist\", 'eta': lr, 'max_depth': max_d,\n",
    "                        'subsample': subsample, 'colsample_bytree': colsample_bytree, 'alpha': reg_alpha,'gamma': gamma,  \n",
    "                        'seed': seed,'eval_metric': ['rmse', 'mae']\n",
    "                        }\n",
    "\n",
    "                model = xgb.train(\n",
    "                params=params, dtrain=train_data2, num_boost_round=600,\n",
    "                evals=[(train_data2, 'train'), (test_data2, 'valid')], early_stopping_rounds=10, verbose_eval=False\n",
    "                )\n",
    "\n",
    "                preds = model.predict(test_data2)\n",
    "\n",
    "                rmse = mean_squared_error(y_test2_fore, preds, squared=False)\n",
    "                mae = mean_absolute_error(y_test2_fore, preds)\n",
    "\n",
    "                cols_out = [time_seq, predict_t, lr, max_d, n_esti, subsample, colsample_bytree, reg_alpha, gamma, rmse,mae]\n",
    "                cols_out = [str(n) for n in cols_out]\n",
    "                f_out.write(','.join(cols_out)+'\\n')\n",
    "        \n",
    "        print(f'rmse: {rmse}, mae: {mae}')\n",
    "        \n",
    "f_out.close()"
   ]
  },
  {
   "attachments": {},
   "cell_type": "markdown",
   "metadata": {},
   "source": [
    "# Classification and Forecast"
   ]
  },
  {
   "attachments": {},
   "cell_type": "markdown",
   "metadata": {},
   "source": [
    "## Visualization"
   ]
  },
  {
   "cell_type": "code",
   "execution_count": null,
   "metadata": {},
   "outputs": [],
   "source": [
    "test_data = xgb.DMatrix(X_test_2d)\n",
    "preds_ho = model1.predict(test_data)\n",
    "preds_ho_time = model2.predict(test_data)"
   ]
  },
  {
   "cell_type": "code",
   "execution_count": null,
   "metadata": {},
   "outputs": [],
   "source": [
    "ans = np.where(preds_ho>0.5, preds_ho_time, 0)"
   ]
  },
  {
   "cell_type": "code",
   "execution_count": null,
   "metadata": {},
   "outputs": [],
   "source": [
    "# visulized on many sample on validation data\n",
    "sample_value = 2\n",
    "# samples = random.sample(split_time_test, sample_value)\n",
    "samples = [split_time_test[0], split_time_test[1]]\n",
    "\n",
    "fig, axs = plt.subplots(1, sample_value, figsize=(14, 2.5))\n",
    "\n",
    "for i in range(sample_value):\n",
    "    \n",
    "    true_ho_time = [y_test2[i] for i in range(samples[i][0], samples[i][1])]\n",
    "        \n",
    "    axs[i].plot(true_ho_time, label='true')\n",
    "    prediciton_ho = [ans[i] for i in range(samples[i][0], samples[i][1])]\n",
    "    axs[i].plot(prediciton_ho, label='pred')\n",
    "\n",
    "plt.legend()\n",
    "plt.show()"
   ]
  },
  {
   "cell_type": "code",
   "execution_count": null,
   "metadata": {},
   "outputs": [],
   "source": [
    "# save model\n",
    "save_path = '/home/wmnlab/Documents/sheng-ru/model/'\n",
    "save_name = 'nr_HO_fcst_xgb.json'\n",
    "f = os.path.join(save_path, save_name)\n",
    "model2.save_model(f)"
   ]
  },
  {
   "cell_type": "code",
   "execution_count": null,
   "metadata": {},
   "outputs": [],
   "source": []
  }
 ],
 "metadata": {
  "accelerator": "GPU",
  "colab": {
   "provenance": []
  },
  "gpuClass": "standard",
  "kernelspec": {
   "display_name": "Python 3 (ipykernel)",
   "language": "python",
   "name": "python3"
  },
  "language_info": {
   "codemirror_mode": {
    "name": "ipython",
    "version": 3
   },
   "file_extension": ".py",
   "mimetype": "text/x-python",
   "name": "python",
   "nbconvert_exporter": "python",
   "pygments_lexer": "ipython3",
   "version": "3.10.11"
  },
  "vscode": {
   "interpreter": {
    "hash": "c7771dd1fbefba0f9e49b3f12d6cb05ea3fc9d8cb4bbb591d0ecb9d07210ade7"
   }
  },
  "widgets": {
   "application/vnd.jupyter.widget-state+json": {
    "0b790cbe3fbb4473a6a2032f3289978c": {
     "model_module": "@jupyter-widgets/controls",
     "model_module_version": "1.5.0",
     "model_name": "HTMLModel",
     "state": {
      "_dom_classes": [],
      "_model_module": "@jupyter-widgets/controls",
      "_model_module_version": "1.5.0",
      "_model_name": "HTMLModel",
      "_view_count": null,
      "_view_module": "@jupyter-widgets/controls",
      "_view_module_version": "1.5.0",
      "_view_name": "HTMLView",
      "description": "",
      "description_tooltip": null,
      "layout": "IPY_MODEL_da193c2493f94ffa83f9515c593dec7b",
      "placeholder": "​",
      "style": "IPY_MODEL_e52a8d7a89ef4e69a51ec0beba114f88",
      "value": " 10/10 [00:00&lt;00:00, 64.32it/s]"
     }
    },
    "3f3f3722cda848e4bd9d91dab9d5a039": {
     "model_module": "@jupyter-widgets/controls",
     "model_module_version": "1.5.0",
     "model_name": "DescriptionStyleModel",
     "state": {
      "_model_module": "@jupyter-widgets/controls",
      "_model_module_version": "1.5.0",
      "_model_name": "DescriptionStyleModel",
      "_view_count": null,
      "_view_module": "@jupyter-widgets/base",
      "_view_module_version": "1.2.0",
      "_view_name": "StyleView",
      "description_width": ""
     }
    },
    "40d6481fc76a434684edc487e01598d7": {
     "model_module": "@jupyter-widgets/base",
     "model_module_version": "1.2.0",
     "model_name": "LayoutModel",
     "state": {
      "_model_module": "@jupyter-widgets/base",
      "_model_module_version": "1.2.0",
      "_model_name": "LayoutModel",
      "_view_count": null,
      "_view_module": "@jupyter-widgets/base",
      "_view_module_version": "1.2.0",
      "_view_name": "LayoutView",
      "align_content": null,
      "align_items": null,
      "align_self": null,
      "border": null,
      "bottom": null,
      "display": null,
      "flex": null,
      "flex_flow": null,
      "grid_area": null,
      "grid_auto_columns": null,
      "grid_auto_flow": null,
      "grid_auto_rows": null,
      "grid_column": null,
      "grid_gap": null,
      "grid_row": null,
      "grid_template_areas": null,
      "grid_template_columns": null,
      "grid_template_rows": null,
      "height": null,
      "justify_content": null,
      "justify_items": null,
      "left": null,
      "margin": null,
      "max_height": null,
      "max_width": null,
      "min_height": null,
      "min_width": null,
      "object_fit": null,
      "object_position": null,
      "order": null,
      "overflow": null,
      "overflow_x": null,
      "overflow_y": null,
      "padding": null,
      "right": null,
      "top": null,
      "visibility": null,
      "width": null
     }
    },
    "4d1d9bc4b7cf4c7fa24ead7c520b89ec": {
     "model_module": "@jupyter-widgets/base",
     "model_module_version": "1.2.0",
     "model_name": "LayoutModel",
     "state": {
      "_model_module": "@jupyter-widgets/base",
      "_model_module_version": "1.2.0",
      "_model_name": "LayoutModel",
      "_view_count": null,
      "_view_module": "@jupyter-widgets/base",
      "_view_module_version": "1.2.0",
      "_view_name": "LayoutView",
      "align_content": null,
      "align_items": null,
      "align_self": null,
      "border": null,
      "bottom": null,
      "display": null,
      "flex": null,
      "flex_flow": null,
      "grid_area": null,
      "grid_auto_columns": null,
      "grid_auto_flow": null,
      "grid_auto_rows": null,
      "grid_column": null,
      "grid_gap": null,
      "grid_row": null,
      "grid_template_areas": null,
      "grid_template_columns": null,
      "grid_template_rows": null,
      "height": null,
      "justify_content": null,
      "justify_items": null,
      "left": null,
      "margin": null,
      "max_height": null,
      "max_width": null,
      "min_height": null,
      "min_width": null,
      "object_fit": null,
      "object_position": null,
      "order": null,
      "overflow": null,
      "overflow_x": null,
      "overflow_y": null,
      "padding": null,
      "right": null,
      "top": null,
      "visibility": null,
      "width": null
     }
    },
    "5636d2bb0cd449b48d116d3298d58bee": {
     "model_module": "@jupyter-widgets/controls",
     "model_module_version": "1.5.0",
     "model_name": "HTMLModel",
     "state": {
      "_dom_classes": [],
      "_model_module": "@jupyter-widgets/controls",
      "_model_module_version": "1.5.0",
      "_model_name": "HTMLModel",
      "_view_count": null,
      "_view_module": "@jupyter-widgets/controls",
      "_view_module_version": "1.5.0",
      "_view_name": "HTMLView",
      "description": "",
      "description_tooltip": null,
      "layout": "IPY_MODEL_ebc772528cf84271998836470aeba36c",
      "placeholder": "​",
      "style": "IPY_MODEL_678f5fea727e457a8c870f25ff6a05cf",
      "value": "100%"
     }
    },
    "5bbf1cb462d049ad88d8499bab6cc95b": {
     "model_module": "@jupyter-widgets/controls",
     "model_module_version": "1.5.0",
     "model_name": "ProgressStyleModel",
     "state": {
      "_model_module": "@jupyter-widgets/controls",
      "_model_module_version": "1.5.0",
      "_model_name": "ProgressStyleModel",
      "_view_count": null,
      "_view_module": "@jupyter-widgets/base",
      "_view_module_version": "1.2.0",
      "_view_name": "StyleView",
      "bar_color": null,
      "description_width": ""
     }
    },
    "678f5fea727e457a8c870f25ff6a05cf": {
     "model_module": "@jupyter-widgets/controls",
     "model_module_version": "1.5.0",
     "model_name": "DescriptionStyleModel",
     "state": {
      "_model_module": "@jupyter-widgets/controls",
      "_model_module_version": "1.5.0",
      "_model_name": "DescriptionStyleModel",
      "_view_count": null,
      "_view_module": "@jupyter-widgets/base",
      "_view_module_version": "1.2.0",
      "_view_name": "StyleView",
      "description_width": ""
     }
    },
    "73cf02420329491992b68f57829cdbc2": {
     "model_module": "@jupyter-widgets/controls",
     "model_module_version": "1.5.0",
     "model_name": "ProgressStyleModel",
     "state": {
      "_model_module": "@jupyter-widgets/controls",
      "_model_module_version": "1.5.0",
      "_model_name": "ProgressStyleModel",
      "_view_count": null,
      "_view_module": "@jupyter-widgets/base",
      "_view_module_version": "1.2.0",
      "_view_name": "StyleView",
      "bar_color": null,
      "description_width": ""
     }
    },
    "7bcca89101404ec5934817decb555743": {
     "model_module": "@jupyter-widgets/controls",
     "model_module_version": "1.5.0",
     "model_name": "FloatProgressModel",
     "state": {
      "_dom_classes": [],
      "_model_module": "@jupyter-widgets/controls",
      "_model_module_version": "1.5.0",
      "_model_name": "FloatProgressModel",
      "_view_count": null,
      "_view_module": "@jupyter-widgets/controls",
      "_view_module_version": "1.5.0",
      "_view_name": "ProgressView",
      "bar_style": "success",
      "description": "",
      "description_tooltip": null,
      "layout": "IPY_MODEL_b0bc8f855a78471f8dce833c0fc5c784",
      "max": 10,
      "min": 0,
      "orientation": "horizontal",
      "style": "IPY_MODEL_73cf02420329491992b68f57829cdbc2",
      "value": 10
     }
    },
    "96b79b33bdcb44be81a3c4d7ac67003e": {
     "model_module": "@jupyter-widgets/controls",
     "model_module_version": "1.5.0",
     "model_name": "HTMLModel",
     "state": {
      "_dom_classes": [],
      "_model_module": "@jupyter-widgets/controls",
      "_model_module_version": "1.5.0",
      "_model_name": "HTMLModel",
      "_view_count": null,
      "_view_module": "@jupyter-widgets/controls",
      "_view_module_version": "1.5.0",
      "_view_name": "HTMLView",
      "description": "",
      "description_tooltip": null,
      "layout": "IPY_MODEL_4d1d9bc4b7cf4c7fa24ead7c520b89ec",
      "placeholder": "​",
      "style": "IPY_MODEL_a62edc7a241244888ba8a015c9bda9e2",
      "value": " 13/13 [00:00&lt;00:00, 63.95it/s]"
     }
    },
    "a62edc7a241244888ba8a015c9bda9e2": {
     "model_module": "@jupyter-widgets/controls",
     "model_module_version": "1.5.0",
     "model_name": "DescriptionStyleModel",
     "state": {
      "_model_module": "@jupyter-widgets/controls",
      "_model_module_version": "1.5.0",
      "_model_name": "DescriptionStyleModel",
      "_view_count": null,
      "_view_module": "@jupyter-widgets/base",
      "_view_module_version": "1.2.0",
      "_view_name": "StyleView",
      "description_width": ""
     }
    },
    "a8fda64c546e4b348c749f051194faba": {
     "model_module": "@jupyter-widgets/controls",
     "model_module_version": "1.5.0",
     "model_name": "HBoxModel",
     "state": {
      "_dom_classes": [],
      "_model_module": "@jupyter-widgets/controls",
      "_model_module_version": "1.5.0",
      "_model_name": "HBoxModel",
      "_view_count": null,
      "_view_module": "@jupyter-widgets/controls",
      "_view_module_version": "1.5.0",
      "_view_name": "HBoxView",
      "box_style": "",
      "children": [
       "IPY_MODEL_5636d2bb0cd449b48d116d3298d58bee",
       "IPY_MODEL_e8d4d6ecd06a4e5db72690a07218e55b",
       "IPY_MODEL_96b79b33bdcb44be81a3c4d7ac67003e"
      ],
      "layout": "IPY_MODEL_f50b59266ff241b79ff92690b3639788"
     }
    },
    "b0bc8f855a78471f8dce833c0fc5c784": {
     "model_module": "@jupyter-widgets/base",
     "model_module_version": "1.2.0",
     "model_name": "LayoutModel",
     "state": {
      "_model_module": "@jupyter-widgets/base",
      "_model_module_version": "1.2.0",
      "_model_name": "LayoutModel",
      "_view_count": null,
      "_view_module": "@jupyter-widgets/base",
      "_view_module_version": "1.2.0",
      "_view_name": "LayoutView",
      "align_content": null,
      "align_items": null,
      "align_self": null,
      "border": null,
      "bottom": null,
      "display": null,
      "flex": null,
      "flex_flow": null,
      "grid_area": null,
      "grid_auto_columns": null,
      "grid_auto_flow": null,
      "grid_auto_rows": null,
      "grid_column": null,
      "grid_gap": null,
      "grid_row": null,
      "grid_template_areas": null,
      "grid_template_columns": null,
      "grid_template_rows": null,
      "height": null,
      "justify_content": null,
      "justify_items": null,
      "left": null,
      "margin": null,
      "max_height": null,
      "max_width": null,
      "min_height": null,
      "min_width": null,
      "object_fit": null,
      "object_position": null,
      "order": null,
      "overflow": null,
      "overflow_x": null,
      "overflow_y": null,
      "padding": null,
      "right": null,
      "top": null,
      "visibility": null,
      "width": null
     }
    },
    "b1d6f2469ad440fc83453f57a549a91e": {
     "model_module": "@jupyter-widgets/base",
     "model_module_version": "1.2.0",
     "model_name": "LayoutModel",
     "state": {
      "_model_module": "@jupyter-widgets/base",
      "_model_module_version": "1.2.0",
      "_model_name": "LayoutModel",
      "_view_count": null,
      "_view_module": "@jupyter-widgets/base",
      "_view_module_version": "1.2.0",
      "_view_name": "LayoutView",
      "align_content": null,
      "align_items": null,
      "align_self": null,
      "border": null,
      "bottom": null,
      "display": null,
      "flex": null,
      "flex_flow": null,
      "grid_area": null,
      "grid_auto_columns": null,
      "grid_auto_flow": null,
      "grid_auto_rows": null,
      "grid_column": null,
      "grid_gap": null,
      "grid_row": null,
      "grid_template_areas": null,
      "grid_template_columns": null,
      "grid_template_rows": null,
      "height": null,
      "justify_content": null,
      "justify_items": null,
      "left": null,
      "margin": null,
      "max_height": null,
      "max_width": null,
      "min_height": null,
      "min_width": null,
      "object_fit": null,
      "object_position": null,
      "order": null,
      "overflow": null,
      "overflow_x": null,
      "overflow_y": null,
      "padding": null,
      "right": null,
      "top": null,
      "visibility": null,
      "width": null
     }
    },
    "b5375aa7864748c89a420c181e6c91af": {
     "model_module": "@jupyter-widgets/controls",
     "model_module_version": "1.5.0",
     "model_name": "HTMLModel",
     "state": {
      "_dom_classes": [],
      "_model_module": "@jupyter-widgets/controls",
      "_model_module_version": "1.5.0",
      "_model_name": "HTMLModel",
      "_view_count": null,
      "_view_module": "@jupyter-widgets/controls",
      "_view_module_version": "1.5.0",
      "_view_name": "HTMLView",
      "description": "",
      "description_tooltip": null,
      "layout": "IPY_MODEL_40d6481fc76a434684edc487e01598d7",
      "placeholder": "​",
      "style": "IPY_MODEL_3f3f3722cda848e4bd9d91dab9d5a039",
      "value": "100%"
     }
    },
    "c2a1a91fd6634e5297125ba0837fee03": {
     "model_module": "@jupyter-widgets/controls",
     "model_module_version": "1.5.0",
     "model_name": "HBoxModel",
     "state": {
      "_dom_classes": [],
      "_model_module": "@jupyter-widgets/controls",
      "_model_module_version": "1.5.0",
      "_model_name": "HBoxModel",
      "_view_count": null,
      "_view_module": "@jupyter-widgets/controls",
      "_view_module_version": "1.5.0",
      "_view_name": "HBoxView",
      "box_style": "",
      "children": [
       "IPY_MODEL_b5375aa7864748c89a420c181e6c91af",
       "IPY_MODEL_7bcca89101404ec5934817decb555743",
       "IPY_MODEL_0b790cbe3fbb4473a6a2032f3289978c"
      ],
      "layout": "IPY_MODEL_e7534fee1e8c4b099c1922e2360d5459"
     }
    },
    "da193c2493f94ffa83f9515c593dec7b": {
     "model_module": "@jupyter-widgets/base",
     "model_module_version": "1.2.0",
     "model_name": "LayoutModel",
     "state": {
      "_model_module": "@jupyter-widgets/base",
      "_model_module_version": "1.2.0",
      "_model_name": "LayoutModel",
      "_view_count": null,
      "_view_module": "@jupyter-widgets/base",
      "_view_module_version": "1.2.0",
      "_view_name": "LayoutView",
      "align_content": null,
      "align_items": null,
      "align_self": null,
      "border": null,
      "bottom": null,
      "display": null,
      "flex": null,
      "flex_flow": null,
      "grid_area": null,
      "grid_auto_columns": null,
      "grid_auto_flow": null,
      "grid_auto_rows": null,
      "grid_column": null,
      "grid_gap": null,
      "grid_row": null,
      "grid_template_areas": null,
      "grid_template_columns": null,
      "grid_template_rows": null,
      "height": null,
      "justify_content": null,
      "justify_items": null,
      "left": null,
      "margin": null,
      "max_height": null,
      "max_width": null,
      "min_height": null,
      "min_width": null,
      "object_fit": null,
      "object_position": null,
      "order": null,
      "overflow": null,
      "overflow_x": null,
      "overflow_y": null,
      "padding": null,
      "right": null,
      "top": null,
      "visibility": null,
      "width": null
     }
    },
    "e52a8d7a89ef4e69a51ec0beba114f88": {
     "model_module": "@jupyter-widgets/controls",
     "model_module_version": "1.5.0",
     "model_name": "DescriptionStyleModel",
     "state": {
      "_model_module": "@jupyter-widgets/controls",
      "_model_module_version": "1.5.0",
      "_model_name": "DescriptionStyleModel",
      "_view_count": null,
      "_view_module": "@jupyter-widgets/base",
      "_view_module_version": "1.2.0",
      "_view_name": "StyleView",
      "description_width": ""
     }
    },
    "e7534fee1e8c4b099c1922e2360d5459": {
     "model_module": "@jupyter-widgets/base",
     "model_module_version": "1.2.0",
     "model_name": "LayoutModel",
     "state": {
      "_model_module": "@jupyter-widgets/base",
      "_model_module_version": "1.2.0",
      "_model_name": "LayoutModel",
      "_view_count": null,
      "_view_module": "@jupyter-widgets/base",
      "_view_module_version": "1.2.0",
      "_view_name": "LayoutView",
      "align_content": null,
      "align_items": null,
      "align_self": null,
      "border": null,
      "bottom": null,
      "display": null,
      "flex": null,
      "flex_flow": null,
      "grid_area": null,
      "grid_auto_columns": null,
      "grid_auto_flow": null,
      "grid_auto_rows": null,
      "grid_column": null,
      "grid_gap": null,
      "grid_row": null,
      "grid_template_areas": null,
      "grid_template_columns": null,
      "grid_template_rows": null,
      "height": null,
      "justify_content": null,
      "justify_items": null,
      "left": null,
      "margin": null,
      "max_height": null,
      "max_width": null,
      "min_height": null,
      "min_width": null,
      "object_fit": null,
      "object_position": null,
      "order": null,
      "overflow": null,
      "overflow_x": null,
      "overflow_y": null,
      "padding": null,
      "right": null,
      "top": null,
      "visibility": null,
      "width": null
     }
    },
    "e8d4d6ecd06a4e5db72690a07218e55b": {
     "model_module": "@jupyter-widgets/controls",
     "model_module_version": "1.5.0",
     "model_name": "FloatProgressModel",
     "state": {
      "_dom_classes": [],
      "_model_module": "@jupyter-widgets/controls",
      "_model_module_version": "1.5.0",
      "_model_name": "FloatProgressModel",
      "_view_count": null,
      "_view_module": "@jupyter-widgets/controls",
      "_view_module_version": "1.5.0",
      "_view_name": "ProgressView",
      "bar_style": "success",
      "description": "",
      "description_tooltip": null,
      "layout": "IPY_MODEL_b1d6f2469ad440fc83453f57a549a91e",
      "max": 13,
      "min": 0,
      "orientation": "horizontal",
      "style": "IPY_MODEL_5bbf1cb462d049ad88d8499bab6cc95b",
      "value": 13
     }
    },
    "ebc772528cf84271998836470aeba36c": {
     "model_module": "@jupyter-widgets/base",
     "model_module_version": "1.2.0",
     "model_name": "LayoutModel",
     "state": {
      "_model_module": "@jupyter-widgets/base",
      "_model_module_version": "1.2.0",
      "_model_name": "LayoutModel",
      "_view_count": null,
      "_view_module": "@jupyter-widgets/base",
      "_view_module_version": "1.2.0",
      "_view_name": "LayoutView",
      "align_content": null,
      "align_items": null,
      "align_self": null,
      "border": null,
      "bottom": null,
      "display": null,
      "flex": null,
      "flex_flow": null,
      "grid_area": null,
      "grid_auto_columns": null,
      "grid_auto_flow": null,
      "grid_auto_rows": null,
      "grid_column": null,
      "grid_gap": null,
      "grid_row": null,
      "grid_template_areas": null,
      "grid_template_columns": null,
      "grid_template_rows": null,
      "height": null,
      "justify_content": null,
      "justify_items": null,
      "left": null,
      "margin": null,
      "max_height": null,
      "max_width": null,
      "min_height": null,
      "min_width": null,
      "object_fit": null,
      "object_position": null,
      "order": null,
      "overflow": null,
      "overflow_x": null,
      "overflow_y": null,
      "padding": null,
      "right": null,
      "top": null,
      "visibility": null,
      "width": null
     }
    },
    "f50b59266ff241b79ff92690b3639788": {
     "model_module": "@jupyter-widgets/base",
     "model_module_version": "1.2.0",
     "model_name": "LayoutModel",
     "state": {
      "_model_module": "@jupyter-widgets/base",
      "_model_module_version": "1.2.0",
      "_model_name": "LayoutModel",
      "_view_count": null,
      "_view_module": "@jupyter-widgets/base",
      "_view_module_version": "1.2.0",
      "_view_name": "LayoutView",
      "align_content": null,
      "align_items": null,
      "align_self": null,
      "border": null,
      "bottom": null,
      "display": null,
      "flex": null,
      "flex_flow": null,
      "grid_area": null,
      "grid_auto_columns": null,
      "grid_auto_flow": null,
      "grid_auto_rows": null,
      "grid_column": null,
      "grid_gap": null,
      "grid_row": null,
      "grid_template_areas": null,
      "grid_template_columns": null,
      "grid_template_rows": null,
      "height": null,
      "justify_content": null,
      "justify_items": null,
      "left": null,
      "margin": null,
      "max_height": null,
      "max_width": null,
      "min_height": null,
      "min_width": null,
      "object_fit": null,
      "object_position": null,
      "order": null,
      "overflow": null,
      "overflow_x": null,
      "overflow_y": null,
      "padding": null,
      "right": null,
      "top": null,
      "visibility": null,
      "width": null
     }
    }
   }
  }
 },
 "nbformat": 4,
 "nbformat_minor": 1
}
