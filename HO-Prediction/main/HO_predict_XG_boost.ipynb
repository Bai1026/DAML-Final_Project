{
 "cells": [
  {
   "cell_type": "code",
   "execution_count": 36,
   "metadata": {
    "id": "Crd2rvUda7B_"
   },
   "outputs": [],
   "source": [
    "import numpy as np # linear algebra\n",
    "import pandas as pd # data processing, CSV file I/O (e.g. pd.read_csv)\n",
    "import os\n",
    "import matplotlib.pyplot as plt\n",
    "import xgboost as xgb\n",
    "from tqdm.notebook import tqdm\n",
    "\n",
    "# from xgboost import plot_importance, plot_tree\n",
    "\n",
    "# from sklearn.model_selection import TimeSeriesSplit, GridSearchCV\n",
    "from sklearn.metrics import auc, precision_recall_curve\n",
    "from sklearn.metrics import roc_curve, auc\n",
    "from sklearn.metrics import f1_score\n",
    "from sklearn.metrics import mean_squared_error, mean_absolute_error\n",
    "\n",
    "import torch\n",
    "import random\n",
    "\n",
    "plt.style.use('fivethirtyeight')"
   ]
  },
  {
   "cell_type": "code",
   "execution_count": 37,
   "metadata": {
    "colab": {
     "base_uri": "https://localhost:8080/"
    },
    "id": "ElQmwPsew9Bi",
    "outputId": "86570616-ff9c-401d-e7c3-7299702aa969"
   },
   "outputs": [
    {
     "name": "stdout",
     "output_type": "stream",
     "text": [
      "Mon Jun  3 11:46:22 2024       \n",
      "+---------------------------------------------------------------------------------------+\n",
      "| NVIDIA-SMI 530.30.02              Driver Version: 530.30.02    CUDA Version: 12.1     |\n",
      "|-----------------------------------------+----------------------+----------------------+\n",
      "| GPU  Name                  Persistence-M| Bus-Id        Disp.A | Volatile Uncorr. ECC |\n",
      "| Fan  Temp  Perf            Pwr:Usage/Cap|         Memory-Usage | GPU-Util  Compute M. |\n",
      "|                                         |                      |               MIG M. |\n",
      "|=========================================+======================+======================|\n",
      "|   0  NVIDIA GeForce RTX 4070 Ti      On | 00000000:65:00.0 Off |                  N/A |\n",
      "|  0%   37C    P8               11W / 285W|   1040MiB / 12282MiB |      0%      Default |\n",
      "|                                         |                      |                  N/A |\n",
      "+-----------------------------------------+----------------------+----------------------+\n",
      "|   1  NVIDIA GeForce RTX 4070 Ti      On | 00000000:B3:00.0 Off |                  N/A |\n",
      "|  0%   38C    P8                9W / 285W|      8MiB / 12282MiB |      0%      Default |\n",
      "|                                         |                      |                  N/A |\n",
      "+-----------------------------------------+----------------------+----------------------+\n",
      "                                                                                         \n",
      "+---------------------------------------------------------------------------------------+\n",
      "| Processes:                                                                            |\n",
      "|  GPU   GI   CI        PID   Type   Process name                            GPU Memory |\n",
      "|        ID   ID                                                             Usage      |\n",
      "|=======================================================================================|\n",
      "|    0   N/A  N/A      1236      G   /usr/lib/xorg/Xorg                           56MiB |\n",
      "|    0   N/A  N/A      1400      G   /usr/bin/gnome-shell                          9MiB |\n",
      "|    0   N/A  N/A   2620464      C   ...ai/anaconda3/envs/wmnlab/bin/python      490MiB |\n",
      "|    0   N/A  N/A   2620945      C   ...ai/anaconda3/envs/wmnlab/bin/python      480MiB |\n",
      "|    1   N/A  N/A      1236      G   /usr/lib/xorg/Xorg                            4MiB |\n",
      "+---------------------------------------------------------------------------------------+\n"
     ]
    }
   ],
   "source": [
    "!nvidia-smi"
   ]
  },
  {
   "attachments": {},
   "cell_type": "markdown",
   "metadata": {},
   "source": [
    "# Functions"
   ]
  },
  {
   "cell_type": "code",
   "execution_count": 38,
   "metadata": {},
   "outputs": [],
   "source": [
    "def ts_array_create(dirname, dir_list, time_seq):\n",
    "    \n",
    "    columns = ['RSRP', 'RSRQ', 'RSRP1', 'RSRQ1', 'RSRP2', 'RSRQ2',\n",
    "               'nr-RSRP', 'nr-RSRQ', 'nr-RSRP1', 'nr-RSRQ1', 'nr-RSRP2', 'nr-RSRQ2']\n",
    "    \n",
    "    def reamin_HO_time(y_train):\n",
    "        def f(L):    \n",
    "            for i, e in enumerate(L):\n",
    "                if e: return i+1\n",
    "            return 0\n",
    "\n",
    "        out = []\n",
    "        for a2 in y_train:\n",
    "            a1_out = []\n",
    "            for a1 in a2:\n",
    "                a1_out.append(a1.any())\n",
    "      \n",
    "            out.append(f(a1_out))\n",
    "        return out\n",
    "    \n",
    "    def HO(y_train):\n",
    "        out = []\n",
    "        for a2 in y_train:\n",
    "            if sum(a2.reshape(-1)) == 0: ho = 0\n",
    "            elif sum(a2.reshape(-1)) > 0: ho = 1\n",
    "            out.append(ho)\n",
    "        return out\n",
    "\n",
    "    split_time = []\n",
    "    for i, f in enumerate(tqdm(dir_list)):\n",
    "    \n",
    "        f = os.path.join(dirname, f)\n",
    "        df = pd.read_csv(f)\n",
    "\n",
    "        # preprocess data with ffill method\n",
    "        del df['Timestamp'], df['lat'], df['long'], df['gpsspeed']\n",
    "        # df[columns] = df[columns].replace(0, np.nan)\n",
    "        # df[columns] = df[columns].fillna(method='ffill')\n",
    "        # df.dropna(inplace=True)\n",
    "        \n",
    "        df.replace(np.nan,0,inplace=True); df.replace('-',0,inplace=True)\n",
    "        \n",
    "        X = df[features]\n",
    "        Y = df[target]\n",
    "\n",
    "        Xt_list = []\n",
    "        Yt_list = []\n",
    "\n",
    "        for j in range(time_seq):\n",
    "            X_t = X.shift(periods=-j)\n",
    "            Xt_list.append(X_t)\n",
    "    \n",
    "        for j in range(time_seq,time_seq+predict_t):\n",
    "            Y_t = Y.shift(periods=-(j))\n",
    "            Yt_list.append(Y_t)\n",
    "\n",
    "        # YY = Y.shift(periods=-(0))\n",
    "\n",
    "        X_ts = np.array(Xt_list); X_ts = np.transpose(X_ts, (1,0,2)); X_ts = X_ts[:-(time_seq+predict_t-1),:,:]\n",
    "        Y_ts = np.array(Yt_list); Y_ts = np.transpose(Y_ts, (1,0,2)); Y_ts = Y_ts[:-(time_seq+predict_t-1),:,:]\n",
    "        split_time.append(len(X_ts))\n",
    "\n",
    "        if i == 0:\n",
    "            X_final = X_ts\n",
    "            Y_final = Y_ts\n",
    "        else:\n",
    "            X_final = np.concatenate((X_final,X_ts), axis=0)\n",
    "            Y_final = np.concatenate((Y_final,Y_ts), axis=0)\n",
    "\n",
    "    split_time = [(sum(split_time[:i]), sum(split_time[:i])+x) for i, x in enumerate(split_time)]\n",
    "    \n",
    "    return X_final, np.array(HO(Y_final)), np.array(reamin_HO_time(Y_final)), split_time # forecast HO\n"
   ]
  },
  {
   "cell_type": "code",
   "execution_count": 39,
   "metadata": {},
   "outputs": [],
   "source": [
    "def days_in_file(file, dates):\n",
    "    \n",
    "    for date in dates:\n",
    "        if date in file: return True \n",
    "    return False\n",
    "\n",
    "def train_valid_split(L, valid_size=0.2):\n",
    "    \n",
    "    length = len(L)\n",
    "    v_num = int(length*valid_size)\n",
    "    v_files = random.sample(L, v_num)\n",
    "    t_files = list(set(L) - set(v_files))\n",
    "    \n",
    "    return t_files, v_files\n",
    "\n",
    "def set_seed(seed):\n",
    "    np.random.seed(seed)\n",
    "    random.seed(seed)\n",
    "    print(f\"Random seed set as {seed}\")"
   ]
  },
  {
   "attachments": {},
   "cell_type": "markdown",
   "metadata": {},
   "source": [
    "# Load Data"
   ]
  },
  {
   "cell_type": "code",
   "execution_count": 40,
   "metadata": {
    "id": "PqFfaTJ6oNw3"
   },
   "outputs": [],
   "source": [
    "# Time sequence length and prediction time length\n",
    "seed = 55688\n",
    "time_seq = 20\n",
    "predict_t = 10\n",
    "valid_ratio = 0.2"
   ]
  },
  {
   "cell_type": "code",
   "execution_count": 41,
   "metadata": {
    "colab": {
     "base_uri": "https://localhost:8080/",
     "height": 133,
     "referenced_widgets": [
      "a8fda64c546e4b348c749f051194faba",
      "5636d2bb0cd449b48d116d3298d58bee",
      "e8d4d6ecd06a4e5db72690a07218e55b",
      "96b79b33bdcb44be81a3c4d7ac67003e",
      "f50b59266ff241b79ff92690b3639788",
      "ebc772528cf84271998836470aeba36c",
      "678f5fea727e457a8c870f25ff6a05cf",
      "b1d6f2469ad440fc83453f57a549a91e",
      "5bbf1cb462d049ad88d8499bab6cc95b",
      "4d1d9bc4b7cf4c7fa24ead7c520b89ec",
      "a62edc7a241244888ba8a015c9bda9e2",
      "c2a1a91fd6634e5297125ba0837fee03",
      "b5375aa7864748c89a420c181e6c91af",
      "7bcca89101404ec5934817decb555743",
      "0b790cbe3fbb4473a6a2032f3289978c",
      "e7534fee1e8c4b099c1922e2360d5459",
      "40d6481fc76a434684edc487e01598d7",
      "3f3f3722cda848e4bd9d91dab9d5a039",
      "b0bc8f855a78471f8dce833c0fc5c784",
      "73cf02420329491992b68f57829cdbc2",
      "da193c2493f94ffa83f9515c593dec7b",
      "e52a8d7a89ef4e69a51ec0beba114f88"
     ]
    },
    "id": "20Oas-k6bdVU",
    "outputId": "24686519-a87e-4754-8c74-b376967a7109"
   },
   "outputs": [
    {
     "name": "stdout",
     "output_type": "stream",
     "text": [
      "Random seed set as 55688\n",
      "GPU 0: NVIDIA GeForce RTX 4070 Ti\n",
      "GPU 1: NVIDIA GeForce RTX 4070 Ti\n",
      "Directories #: 169\n",
      "Data #: 50700\n",
      "Loading training data...\n"
     ]
    },
    {
     "data": {
      "application/vnd.jupyter.widget-view+json": {
       "model_id": "91581dbda02148fb83a3a9d24dd72cc3",
       "version_major": 2,
       "version_minor": 0
      },
      "text/plain": [
       "  0%|          | 0/136 [00:00<?, ?it/s]"
      ]
     },
     "metadata": {},
     "output_type": "display_data"
    },
    {
     "name": "stdout",
     "output_type": "stream",
     "text": [
      "Loading testing data...\n"
     ]
    },
    {
     "data": {
      "application/vnd.jupyter.widget-view+json": {
       "model_id": "7f3cebdc82a14596b841e5ec3fffdd39",
       "version_major": 2,
       "version_minor": 0
      },
      "text/plain": [
       "  0%|          | 0/33 [00:00<?, ?it/s]"
      ]
     },
     "metadata": {},
     "output_type": "display_data"
    }
   ],
   "source": [
    "# Setup seed\n",
    "set_seed(seed)\n",
    "\n",
    "# Get GPU\n",
    "device_count = torch.cuda.device_count()\n",
    "num_of_gpus = device_count\n",
    "\n",
    "for i in range(device_count):\n",
    "    print(\"GPU {}: {}\".format(i, torch.cuda.get_device_name(i)))\n",
    "    gpu_id = i\n",
    "\n",
    "# Save best model to \n",
    "save_path = \"../model\"\n",
    "\n",
    "# Define DataSet\n",
    "dirname = \"../data/single\"\n",
    "# dirname = \"/home/wmnlab/Documents/sheng-ru/data/single0.5\"\n",
    "\n",
    "# select all csv files\n",
    "dir_list = os.listdir(dirname)\n",
    "dir_list = [f for f in dir_list if ( f.endswith('.csv') and (not 'sm' in f) ) ]\n",
    "print(f\"Directories #: {len(dir_list)}\")\n",
    "print(f\"Data #: {300*len(dir_list)}\")\n",
    "\n",
    "# train_dates = ['03-26', '04-01']\n",
    "# test_dates = ['04-10']\n",
    "    \n",
    "# train_dir_list = [f for f in dir_list if ( f.endswith('.csv') and ('All' in f) and days_in_file(f, train_dates) )]\n",
    "# test_dir_list = [f for f in dir_list if ( f.endswith('.csv') and ('All' in f) and days_in_file(f, test_dates) )]\n",
    "\n",
    "train_dir_list, test_dir_list = train_valid_split(dir_list, valid_ratio)\n",
    "# train_dir_list += [f for f in os.listdir(dirname) if 'sm' in f]\n",
    "\n",
    "# Select which feature to use.\n",
    "# features = ['LTE_HO', 'MN_HO', 'eNB_to_ENDC', 'gNB_Rel', 'gNB_HO', 'RLF', 'SCG_RLF',\n",
    "#         'num_of_neis', 'RSRP', 'RSRQ', 'RSRP1', 'RSRQ1', 'RSRP2', 'RSRQ2',\n",
    "#         'nr-RSRP', 'nr-RSRQ', 'nr-RSRP1', 'nr-RSRQ1', 'nr-RSRP2', 'nr-RSRQ2' ]\n",
    "features = ['LTE_HO', 'MN_HO', 'eNB_to_ENDC', 'gNB_Rel', 'gNB_HO', 'RLF', 'SCG_RLF',\n",
    "        'num_of_neis', 'RSRP', 'RSRQ', 'RSRP1', 'RSRQ1','nr-RSRP', 'nr-RSRQ', 'nr-RSRP1', 'nr-RSRQ1']\n",
    "# features = ['LTE_HO', 'MN_HO', 'eNB_to_ENDC', 'gNB_Rel', 'gNB_HO', 'RLF', 'SCG_RLF',\n",
    "#         'num_of_neis', 'RSRP', 'RSRQ', 'RSRP1', 'RSRQ1', 'RSRP2', 'RSRQ2']\n",
    "\n",
    "num_of_features = len(features)\n",
    "\n",
    "target = ['LTE_HO', 'MN_HO'] # For eNB HO.\n",
    "# target = ['eNB_to_ENDC'] # Setup gNB\n",
    "# target = ['gNB_Rel', 'gNB_HO'] # For gNB HO.\n",
    "# target = ['RLF'] # For RLF\n",
    "# target = ['SCG_RLF'] # For scg failure\n",
    "# target = ['dl-loss'] # For DL loss\n",
    "# target = ['ul-loss'] # For UL loss\n",
    "\n",
    "# Data\n",
    "print('Loading training data...')\n",
    "X_train, y_train1, y_train2, split_time_train = ts_array_create(dirname, train_dir_list, time_seq)\n",
    "X_train_2d = X_train.reshape(-1, time_seq*num_of_features)\n",
    "cond = y_train2 > 0\n",
    "X_train_fore = X_train_2d[cond]\n",
    "y_train2_fore = y_train2[cond]\n",
    "\n",
    "\n",
    "print('Loading testing data...')\n",
    "X_test, y_test1, y_test2, split_time_test = ts_array_create(dirname, test_dir_list, time_seq)\n",
    "X_test_2d = X_test.reshape(-1, time_seq*num_of_features)\n",
    "cond = y_test2 > 0\n",
    "X_test_fore = X_test_2d[cond]\n",
    "y_test2_fore = y_test2[cond]\n",
    "\n",
    "# xgb DMatrix\n",
    "train_data1 = xgb.DMatrix(X_train_2d, label=y_train1)\n",
    "train_data2 = xgb.DMatrix(X_train_fore, label=y_train2_fore)\n",
    "\n",
    "test_data1 = xgb.DMatrix(X_test_2d, label=y_test1)\n",
    "test_data2 = xgb.DMatrix(X_test_fore, label=y_test2_fore)"
   ]
  },
  {
   "cell_type": "code",
   "execution_count": 42,
   "metadata": {},
   "outputs": [
    {
     "data": {
      "text/plain": [
       "((35348,), (35348,))"
      ]
     },
     "execution_count": 42,
     "metadata": {},
     "output_type": "execute_result"
    }
   ],
   "source": [
    "y_train1.shape, y_train2.shape\n"
   ]
  },
  {
   "cell_type": "code",
   "execution_count": 43,
   "metadata": {
    "id": "1tK2m5iv2nJ4"
   },
   "outputs": [],
   "source": [
    "# X_train.shape, X_train_2d.shape\n",
    "# train_dir_list, test_dir_list"
   ]
  },
  {
   "attachments": {},
   "cell_type": "markdown",
   "metadata": {},
   "source": [
    "### Classification"
   ]
  },
  {
   "cell_type": "code",
   "execution_count": 44,
   "metadata": {
    "id": "iWYmCLBkAAZA"
   },
   "outputs": [],
   "source": [
    "# Parameters\n",
    "lr = 0.3\n",
    "max_d = 7\n",
    "n_esti = 200\n",
    "subsample = 1\n",
    "colsample_bytree = 0.9\n",
    "reg_alpha = 0.5\n",
    "gamma = 0.1\n",
    "valid_ratio = 0.2\n",
    "\n",
    "params = {'objective': 'binary:logistic', \"tree_method\": \"gpu_hist\", 'eta': lr, 'max_depth': max_d,\n",
    "            'subsample': subsample, 'colsample_bytree': colsample_bytree, 'alpha': reg_alpha,'gamma': gamma,  \n",
    "            'seed': seed,'eval_metric': ['error','logloss','aucpr']}"
   ]
  },
  {
   "cell_type": "code",
   "execution_count": 45,
   "metadata": {
    "colab": {
     "base_uri": "https://localhost:8080/"
    },
    "id": "ifdrrI3W3LQh",
    "outputId": "b9101f06-8a85-42c3-d3f2-123fe0630636"
   },
   "outputs": [
    {
     "name": "stdout",
     "output_type": "stream",
     "text": [
      "[0]\ttrain-error:0.31521\ttrain-logloss:0.63157\ttrain-aucpr:0.72637\tvalid-error:0.34073\tvalid-logloss:0.63874\tvalid-aucpr:0.65515\n",
      "[1]\ttrain-error:0.27393\ttrain-logloss:0.59451\ttrain-aucpr:0.77360\tvalid-error:0.31431\tvalid-logloss:0.61280\tvalid-aucpr:0.69299\n",
      "[2]\ttrain-error:0.24247\ttrain-logloss:0.56160\ttrain-aucpr:0.80780\tvalid-error:0.29175\tvalid-logloss:0.58793\tvalid-aucpr:0.72671\n",
      "[3]\ttrain-error:0.22264\ttrain-logloss:0.53380\ttrain-aucpr:0.82926\tvalid-error:0.27543\tvalid-logloss:0.56795\tvalid-aucpr:0.74738\n",
      "[4]\ttrain-error:0.21266\ttrain-logloss:0.51429\ttrain-aucpr:0.84411\tvalid-error:0.26803\tvalid-logloss:0.55351\tvalid-aucpr:0.76249\n",
      "[5]\ttrain-error:0.20213\ttrain-logloss:0.49507\ttrain-aucpr:0.85746\tvalid-error:0.25910\tvalid-logloss:0.54110\tvalid-aucpr:0.77395\n",
      "[6]\ttrain-error:0.19837\ttrain-logloss:0.48568\ttrain-aucpr:0.86165\tvalid-error:0.25499\tvalid-logloss:0.53297\tvalid-aucpr:0.77934\n",
      "[7]\ttrain-error:0.19034\ttrain-logloss:0.47421\ttrain-aucpr:0.86942\tvalid-error:0.25264\tvalid-logloss:0.52526\tvalid-aucpr:0.78651\n",
      "[8]\ttrain-error:0.18578\ttrain-logloss:0.46519\ttrain-aucpr:0.87559\tvalid-error:0.24900\tvalid-logloss:0.52057\tvalid-aucpr:0.78844\n",
      "[9]\ttrain-error:0.17944\ttrain-logloss:0.45207\ttrain-aucpr:0.88255\tvalid-error:0.24536\tvalid-logloss:0.51022\tvalid-aucpr:0.79720\n",
      "[10]\ttrain-error:0.17393\ttrain-logloss:0.44419\ttrain-aucpr:0.88747\tvalid-error:0.24524\tvalid-logloss:0.50595\tvalid-aucpr:0.80115\n",
      "[11]\ttrain-error:0.16898\ttrain-logloss:0.43486\ttrain-aucpr:0.89326\tvalid-error:0.24125\tvalid-logloss:0.50094\tvalid-aucpr:0.80548\n",
      "[12]\ttrain-error:0.16711\ttrain-logloss:0.43023\ttrain-aucpr:0.89598\tvalid-error:0.24160\tvalid-logloss:0.49967\tvalid-aucpr:0.80519\n",
      "[13]\ttrain-error:0.16306\ttrain-logloss:0.42308\ttrain-aucpr:0.89986\tvalid-error:0.23925\tvalid-logloss:0.49739\tvalid-aucpr:0.80643\n",
      "[14]\ttrain-error:0.15874\ttrain-logloss:0.41722\ttrain-aucpr:0.90491\tvalid-error:0.23737\tvalid-logloss:0.49473\tvalid-aucpr:0.80922\n",
      "[15]\ttrain-error:0.15158\ttrain-logloss:0.40553\ttrain-aucpr:0.91300\tvalid-error:0.23326\tvalid-logloss:0.48890\tvalid-aucpr:0.81424\n",
      "[16]\ttrain-error:0.15087\ttrain-logloss:0.40276\ttrain-aucpr:0.91399\tvalid-error:0.23268\tvalid-logloss:0.48724\tvalid-aucpr:0.81484\n"
     ]
    },
    {
     "name": "stderr",
     "output_type": "stream",
     "text": [
      "/home/vincentpai/anaconda3/envs/wmnlab/lib/python3.9/site-packages/xgboost/core.py:160: UserWarning: [11:46:43] WARNING: /workspace/src/common/error_msg.cc:27: The tree method `gpu_hist` is deprecated since 2.0.0. To use GPU training, set the `device` parameter to CUDA instead.\n",
      "\n",
      "    E.g. tree_method = \"hist\", device = \"cuda\"\n",
      "\n",
      "  warnings.warn(smsg, UserWarning)\n"
     ]
    },
    {
     "name": "stdout",
     "output_type": "stream",
     "text": [
      "[17]\ttrain-error:0.14567\ttrain-logloss:0.39563\ttrain-aucpr:0.91866\tvalid-error:0.23256\tvalid-logloss:0.48386\tvalid-aucpr:0.81857\n",
      "[18]\ttrain-error:0.14303\ttrain-logloss:0.38886\ttrain-aucpr:0.92147\tvalid-error:0.22657\tvalid-logloss:0.47975\tvalid-aucpr:0.82090\n",
      "[19]\ttrain-error:0.14108\ttrain-logloss:0.38552\ttrain-aucpr:0.92351\tvalid-error:0.22622\tvalid-logloss:0.47894\tvalid-aucpr:0.82148\n",
      "[20]\ttrain-error:0.13721\ttrain-logloss:0.37974\ttrain-aucpr:0.92706\tvalid-error:0.22375\tvalid-logloss:0.47641\tvalid-aucpr:0.82380\n",
      "[21]\ttrain-error:0.13359\ttrain-logloss:0.37290\ttrain-aucpr:0.93007\tvalid-error:0.21905\tvalid-logloss:0.47239\tvalid-aucpr:0.82701\n",
      "[22]\ttrain-error:0.12994\ttrain-logloss:0.36650\ttrain-aucpr:0.93340\tvalid-error:0.21788\tvalid-logloss:0.46909\tvalid-aucpr:0.82968\n",
      "[23]\ttrain-error:0.12507\ttrain-logloss:0.35983\ttrain-aucpr:0.93746\tvalid-error:0.21752\tvalid-logloss:0.46714\tvalid-aucpr:0.83123\n",
      "[24]\ttrain-error:0.12125\ttrain-logloss:0.35190\ttrain-aucpr:0.94144\tvalid-error:0.21799\tvalid-logloss:0.46362\tvalid-aucpr:0.83389\n",
      "[25]\ttrain-error:0.11794\ttrain-logloss:0.34689\ttrain-aucpr:0.94344\tvalid-error:0.21858\tvalid-logloss:0.46170\tvalid-aucpr:0.83494\n",
      "[26]\ttrain-error:0.11435\ttrain-logloss:0.34029\ttrain-aucpr:0.94693\tvalid-error:0.21388\tvalid-logloss:0.45835\tvalid-aucpr:0.83693\n",
      "[27]\ttrain-error:0.11373\ttrain-logloss:0.33794\ttrain-aucpr:0.94767\tvalid-error:0.21377\tvalid-logloss:0.45783\tvalid-aucpr:0.83712\n",
      "[28]\ttrain-error:0.11172\ttrain-logloss:0.33476\ttrain-aucpr:0.94922\tvalid-error:0.21471\tvalid-logloss:0.45736\tvalid-aucpr:0.83717\n",
      "[29]\ttrain-error:0.10886\ttrain-logloss:0.33026\ttrain-aucpr:0.95115\tvalid-error:0.21283\tvalid-logloss:0.45531\tvalid-aucpr:0.83874\n",
      "[30]\ttrain-error:0.10787\ttrain-logloss:0.32685\ttrain-aucpr:0.95238\tvalid-error:0.21353\tvalid-logloss:0.45352\tvalid-aucpr:0.83942\n",
      "[31]\ttrain-error:0.10397\ttrain-logloss:0.32296\ttrain-aucpr:0.95449\tvalid-error:0.21083\tvalid-logloss:0.45287\tvalid-aucpr:0.83936\n",
      "[32]\ttrain-error:0.09975\ttrain-logloss:0.31583\ttrain-aucpr:0.95739\tvalid-error:0.20918\tvalid-logloss:0.45060\tvalid-aucpr:0.84068\n",
      "[33]\ttrain-error:0.09856\ttrain-logloss:0.31313\ttrain-aucpr:0.95878\tvalid-error:0.20860\tvalid-logloss:0.44960\tvalid-aucpr:0.84133\n",
      "[34]\ttrain-error:0.09641\ttrain-logloss:0.30934\ttrain-aucpr:0.96048\tvalid-error:0.20942\tvalid-logloss:0.44931\tvalid-aucpr:0.84133\n",
      "[35]\ttrain-error:0.09412\ttrain-logloss:0.30361\ttrain-aucpr:0.96214\tvalid-error:0.20707\tvalid-logloss:0.44685\tvalid-aucpr:0.84281\n",
      "[36]\ttrain-error:0.09158\ttrain-logloss:0.29968\ttrain-aucpr:0.96388\tvalid-error:0.20578\tvalid-logloss:0.44586\tvalid-aucpr:0.84322\n",
      "[37]\ttrain-error:0.08863\ttrain-logloss:0.29451\ttrain-aucpr:0.96587\tvalid-error:0.20590\tvalid-logloss:0.44424\tvalid-aucpr:0.84459\n",
      "[38]\ttrain-error:0.08555\ttrain-logloss:0.29028\ttrain-aucpr:0.96736\tvalid-error:0.20507\tvalid-logloss:0.44207\tvalid-aucpr:0.84685\n",
      "[39]\ttrain-error:0.08323\ttrain-logloss:0.28581\ttrain-aucpr:0.96879\tvalid-error:0.20355\tvalid-logloss:0.44073\tvalid-aucpr:0.84728\n",
      "[40]\ttrain-error:0.08221\ttrain-logloss:0.28326\ttrain-aucpr:0.96980\tvalid-error:0.20449\tvalid-logloss:0.43992\tvalid-aucpr:0.84786\n",
      "[41]\ttrain-error:0.08085\ttrain-logloss:0.28078\ttrain-aucpr:0.97070\tvalid-error:0.20496\tvalid-logloss:0.43954\tvalid-aucpr:0.84777\n",
      "[42]\ttrain-error:0.07836\ttrain-logloss:0.27719\ttrain-aucpr:0.97153\tvalid-error:0.20378\tvalid-logloss:0.43818\tvalid-aucpr:0.84820\n",
      "[43]\ttrain-error:0.07701\ttrain-logloss:0.27360\ttrain-aucpr:0.97285\tvalid-error:0.20284\tvalid-logloss:0.43707\tvalid-aucpr:0.84923\n",
      "[44]\ttrain-error:0.07587\ttrain-logloss:0.27110\ttrain-aucpr:0.97362\tvalid-error:0.20284\tvalid-logloss:0.43615\tvalid-aucpr:0.85001\n",
      "[45]\ttrain-error:0.07355\ttrain-logloss:0.26673\ttrain-aucpr:0.97484\tvalid-error:0.20261\tvalid-logloss:0.43416\tvalid-aucpr:0.85119\n",
      "[46]\ttrain-error:0.07228\ttrain-logloss:0.26263\ttrain-aucpr:0.97598\tvalid-error:0.20272\tvalid-logloss:0.43307\tvalid-aucpr:0.85141\n",
      "[47]\ttrain-error:0.07155\ttrain-logloss:0.26001\ttrain-aucpr:0.97686\tvalid-error:0.20296\tvalid-logloss:0.43267\tvalid-aucpr:0.85185\n",
      "[48]\ttrain-error:0.07024\ttrain-logloss:0.25863\ttrain-aucpr:0.97723\tvalid-error:0.20096\tvalid-logloss:0.43231\tvalid-aucpr:0.85198\n",
      "[49]\ttrain-error:0.06781\ttrain-logloss:0.25389\ttrain-aucpr:0.97878\tvalid-error:0.19897\tvalid-logloss:0.43178\tvalid-aucpr:0.85201\n",
      "[50]\ttrain-error:0.06623\ttrain-logloss:0.25066\ttrain-aucpr:0.97966\tvalid-error:0.19791\tvalid-logloss:0.43082\tvalid-aucpr:0.85281\n",
      "[51]\ttrain-error:0.06447\ttrain-logloss:0.24659\ttrain-aucpr:0.98084\tvalid-error:0.19897\tvalid-logloss:0.43073\tvalid-aucpr:0.85275\n",
      "[52]\ttrain-error:0.06181\ttrain-logloss:0.24174\ttrain-aucpr:0.98228\tvalid-error:0.20096\tvalid-logloss:0.42988\tvalid-aucpr:0.85334\n",
      "[53]\ttrain-error:0.05921\ttrain-logloss:0.23666\ttrain-aucpr:0.98373\tvalid-error:0.19991\tvalid-logloss:0.43007\tvalid-aucpr:0.85307\n",
      "[54]\ttrain-error:0.05811\ttrain-logloss:0.23435\ttrain-aucpr:0.98417\tvalid-error:0.20026\tvalid-logloss:0.42980\tvalid-aucpr:0.85291\n",
      "[55]\ttrain-error:0.05746\ttrain-logloss:0.23227\ttrain-aucpr:0.98455\tvalid-error:0.20038\tvalid-logloss:0.42855\tvalid-aucpr:0.85388\n",
      "[56]\ttrain-error:0.05647\ttrain-logloss:0.22955\ttrain-aucpr:0.98523\tvalid-error:0.19967\tvalid-logloss:0.42873\tvalid-aucpr:0.85382\n",
      "[57]\ttrain-error:0.05494\ttrain-logloss:0.22618\ttrain-aucpr:0.98577\tvalid-error:0.19720\tvalid-logloss:0.42758\tvalid-aucpr:0.85448\n",
      "[58]\ttrain-error:0.05401\ttrain-logloss:0.22410\ttrain-aucpr:0.98614\tvalid-error:0.19814\tvalid-logloss:0.42667\tvalid-aucpr:0.85520\n",
      "[59]\ttrain-error:0.05304\ttrain-logloss:0.22214\ttrain-aucpr:0.98663\tvalid-error:0.19803\tvalid-logloss:0.42667\tvalid-aucpr:0.85494\n",
      "[60]\ttrain-error:0.05055\ttrain-logloss:0.21811\ttrain-aucpr:0.98769\tvalid-error:0.19826\tvalid-logloss:0.42575\tvalid-aucpr:0.85553\n",
      "[61]\ttrain-error:0.04903\ttrain-logloss:0.21518\ttrain-aucpr:0.98831\tvalid-error:0.19838\tvalid-logloss:0.42523\tvalid-aucpr:0.85576\n",
      "[62]\ttrain-error:0.04758\ttrain-logloss:0.21193\ttrain-aucpr:0.98897\tvalid-error:0.19897\tvalid-logloss:0.42508\tvalid-aucpr:0.85552\n",
      "[63]\ttrain-error:0.04671\ttrain-logloss:0.21051\ttrain-aucpr:0.98924\tvalid-error:0.19791\tvalid-logloss:0.42467\tvalid-aucpr:0.85578\n",
      "[64]\ttrain-error:0.04524\ttrain-logloss:0.20699\ttrain-aucpr:0.99000\tvalid-error:0.19662\tvalid-logloss:0.42425\tvalid-aucpr:0.85591\n",
      "[65]\ttrain-error:0.04232\ttrain-logloss:0.20283\ttrain-aucpr:0.99087\tvalid-error:0.19697\tvalid-logloss:0.42435\tvalid-aucpr:0.85570\n",
      "[66]\ttrain-error:0.04074\ttrain-logloss:0.19997\ttrain-aucpr:0.99139\tvalid-error:0.19626\tvalid-logloss:0.42356\tvalid-aucpr:0.85616\n",
      "[67]\ttrain-error:0.03896\ttrain-logloss:0.19666\ttrain-aucpr:0.99211\tvalid-error:0.19744\tvalid-logloss:0.42308\tvalid-aucpr:0.85613\n",
      "[68]\ttrain-error:0.03836\ttrain-logloss:0.19517\ttrain-aucpr:0.99238\tvalid-error:0.19650\tvalid-logloss:0.42249\tvalid-aucpr:0.85643\n",
      "[69]\ttrain-error:0.03782\ttrain-logloss:0.19359\ttrain-aucpr:0.99254\tvalid-error:0.19650\tvalid-logloss:0.42213\tvalid-aucpr:0.85678\n",
      "[70]\ttrain-error:0.03621\ttrain-logloss:0.19012\ttrain-aucpr:0.99313\tvalid-error:0.19556\tvalid-logloss:0.42200\tvalid-aucpr:0.85725\n",
      "[71]\ttrain-error:0.03587\ttrain-logloss:0.18868\ttrain-aucpr:0.99330\tvalid-error:0.19497\tvalid-logloss:0.42163\tvalid-aucpr:0.85731\n",
      "[72]\ttrain-error:0.03463\ttrain-logloss:0.18630\ttrain-aucpr:0.99365\tvalid-error:0.19533\tvalid-logloss:0.42169\tvalid-aucpr:0.85711\n",
      "[73]\ttrain-error:0.03395\ttrain-logloss:0.18435\ttrain-aucpr:0.99396\tvalid-error:0.19450\tvalid-logloss:0.42149\tvalid-aucpr:0.85709\n",
      "[74]\ttrain-error:0.03335\ttrain-logloss:0.18265\ttrain-aucpr:0.99414\tvalid-error:0.19486\tvalid-logloss:0.42189\tvalid-aucpr:0.85663\n",
      "[75]\ttrain-error:0.03129\ttrain-logloss:0.17883\ttrain-aucpr:0.99469\tvalid-error:0.19580\tvalid-logloss:0.42294\tvalid-aucpr:0.85573\n"
     ]
    }
   ],
   "source": [
    "evals_result = {}\n",
    "model = xgb.train(\n",
    "    params=params,\n",
    "    dtrain=train_data1,\n",
    "    num_boost_round=n_esti,\n",
    "    evals=[(train_data1, 'train'), (test_data1, 'valid')],\n",
    "    evals_result=evals_result,\n",
    "    early_stopping_rounds=5,\n",
    "    # verbose_eval=False\n",
    ")\n"
   ]
  },
  {
   "cell_type": "code",
   "execution_count": 46,
   "metadata": {},
   "outputs": [],
   "source": [
    "# # plot evaluation metrics\n",
    "# epochs = len(evals_result['train']['error'])\n",
    "# x_axis = range(0, epochs)\n",
    "\n",
    "# fig, ax = plt.subplots()\n",
    "# ax.plot(x_axis, evals_result['train']['error'], label='Train')\n",
    "# ax.plot(x_axis, evals_result['valid']['error'], label='valid')\n",
    "# ax.legend()\n",
    "# plt.ylabel('Error')\n",
    "# plt.title('XGBoost Error')\n",
    "\n",
    "# # plot log loss\n",
    "# fig, ax = plt.subplots()\n",
    "# ax.plot(x_axis, evals_result['train']['logloss'], label='Train')\n",
    "# ax.plot(x_axis, evals_result['valid']['logloss'], label='valid')\n",
    "# ax.legend()\n",
    "# plt.ylabel('Log Loss')\n",
    "# plt.title('XGBoost Log Loss')\n",
    "\n",
    "# # plot log loss\n",
    "# fig, ax = plt.subplots()\n",
    "# ax.plot(x_axis, evals_result['train']['aucpr'], label='Train')\n",
    "# ax.plot(x_axis, evals_result['valid']['aucpr'], label='valid')\n",
    "# ax.legend()\n",
    "# plt.ylabel('aucpr')\n",
    "# plt.title('XGBoost aucpr')\n",
    "\n",
    "# plt.show()"
   ]
  },
  {
   "cell_type": "code",
   "execution_count": 47,
   "metadata": {},
   "outputs": [
    {
     "name": "stderr",
     "output_type": "stream",
     "text": [
      "/home/vincentpai/anaconda3/envs/wmnlab/lib/python3.9/site-packages/xgboost/core.py:160: UserWarning: [11:46:45] WARNING: /workspace/src/common/error_msg.cc:27: The tree method `gpu_hist` is deprecated since 2.0.0. To use GPU training, set the `device` parameter to CUDA instead.\n",
      "\n",
      "    E.g. tree_method = \"hist\", device = \"cuda\"\n",
      "\n",
      "  warnings.warn(smsg, UserWarning)\n"
     ]
    }
   ],
   "source": [
    "preds = model.predict(test_data1)"
   ]
  },
  {
   "cell_type": "code",
   "execution_count": 48,
   "metadata": {
    "colab": {
     "base_uri": "https://localhost:8080/",
     "height": 496
    },
    "id": "iG6MFd4MFE6b",
    "outputId": "16455e4a-d236-45bd-8e76-d8c889425148"
   },
   "outputs": [
    {
     "name": "stdout",
     "output_type": "stream",
     "text": [
      "th: 0.2; Acc: 72.65680056377731; precision: 0.622; recall:0.929; f1:0.7451\n",
      "th: 0.3; Acc: 77.40192623913555; precision: 0.6847; recall:0.8799; f1:0.7701\n",
      "th: 0.4; Acc: 79.88019732205778; precision: 0.7382; recall:0.825; f1:0.7792\n",
      "th: 0.5; Acc: 80.39699318769085; precision: 0.7823; recall:0.7543; f1:0.768\n",
      "th: 0.6; Acc: 79.86845196147522; precision: 0.8256; recall:0.6746; f1:0.7425\n",
      "th: 0.7; Acc: 77.83650458069063; precision: 0.8624; recall:0.5768; f1:0.6913\n",
      "th: 0.8; Acc: 74.35987784824995; precision: 0.9053; recall:0.4513; f1:0.6023\n",
      "[0.4, 79.88019732205778, 0.7382, 0.825, 0.7792]\n"
     ]
    },
    {
     "data": {
      "image/png": "[encoded data removed]",
      "text/plain": [
       "<Figure size 640x480 with 1 Axes>"
      ]
     },
     "metadata": {},
     "output_type": "display_data"
    },
    {
     "name": "stdout",
     "output_type": "stream",
     "text": [
      "AUCPR is 0.8558100234532752.\n"
     ]
    },
    {
     "data": {
      "image/png": "[encoded data removed]",
      "text/plain": [
       "<Figure size 640x480 with 1 Axes>"
      ]
     },
     "metadata": {},
     "output_type": "display_data"
    },
    {
     "name": "stdout",
     "output_type": "stream",
     "text": [
      "ROC Auc is 0.8831935044056257.\n"
     ]
    },
    {
     "data": {
      "image/png": "[encoded data removed]",
      "text/plain": [
       "<Figure size 640x480 with 1 Axes>"
      ]
     },
     "metadata": {},
     "output_type": "display_data"
    }
   ],
   "source": [
    "# plot all data point on a plot\n",
    "ths = [0.2,0.3,0.4,0.5,0.6,0.7,0.8]\n",
    "'''thresholds are used to determine the decision boundary for converting the predicted probabilities (from a classification model) into binary class labels (0 or 1)'''\n",
    "\n",
    "highest_score = []\n",
    "highest_f1 = 0\n",
    "\n",
    "task = 'classification'\n",
    "\n",
    "if task == 'forecast':\n",
    "    rmse = round(np.sqrt(np.mean((preds-y_test1)**2)), 2)\n",
    "    mae = np.mean(np.abs(preds-np.array(y_test1)))\n",
    "    print(f'RMSE is {rmse}. MAE is {mae}')\n",
    "    \n",
    "elif task == 'classification':\n",
    "    # PR and AUCPR\n",
    "    precision, recall, thresholds = precision_recall_curve(y_test1, preds)\n",
    "    aucpr = auc(recall, precision)\n",
    "    \n",
    "    # ROC & AUC\n",
    "    fpr, tpr, thresholds = roc_curve(y_test1, preds)\n",
    "    roc_auc = auc(fpr, tpr)\n",
    "    \n",
    "    # Manually count\n",
    "    for threshold in ths:\n",
    "        TP, FP, TN, FN = 0,0,0,0\n",
    "        anses = np.where(preds<threshold, 0, 1)\n",
    "        for ans, y in zip(anses, y_test1):\n",
    "            if ans == y:\n",
    "                if ans == 1: TP += 1\n",
    "                elif ans == 0: TN +=1\n",
    "            elif ans != y:\n",
    "                if ans == 1: FP += 1\n",
    "                elif ans == 0: FN +=1\n",
    "        acc=(TP+TN)/(TP+TN+FP+FN)*100\n",
    "        try:\n",
    "            p, r = round(TP/(TP+FP), 4), round(TP/(TP+FN), 4)\n",
    "            f1 = round(2*(p*r)/(p+r), 4)\n",
    "        except:\n",
    "            p, r, f1 = 'DNF', 'DNF', 'DNF'\n",
    "        \n",
    "        if f1 > highest_f1:\n",
    "            highest_f1 = f1\n",
    "            highest_score = [threshold, acc, p, r, f1]\n",
    "\n",
    "        s = f'th: {threshold}; Acc: {acc}; precision: {p}; recall:{r}; f1:{f1}'\n",
    "        print(s)\n",
    "    \n",
    "    thresholds = []\n",
    "    f1_scores = []\n",
    "\n",
    "    for threshold in range(5, 101, 5):\n",
    "        threshold /= 100\n",
    "        y_pred_threshold = [1 if pred >= threshold else 0 for pred in preds]\n",
    "        f1_scores.append(f1_score(y_test1, y_pred_threshold))\n",
    "        thresholds.append(threshold)\n",
    "\n",
    "    print(highest_score)\n",
    "    plt.figure()\n",
    "    plt.plot(thresholds, f1_scores, lw=2, label='F1 Score')\n",
    "    plt.xlabel('Threshold')\n",
    "    plt.ylabel('F1 Score')\n",
    "    plt.title('Threshold-F1 Score Relationship')\n",
    "    plt.legend()\n",
    "    plt.show()\n",
    "    \n",
    "    print(f'AUCPR is {aucpr}.')\n",
    "    plt.figure()\n",
    "    plt.plot(recall, precision, lw=2, label='PR Curve (AUCPR = %0.2f)' % aucpr)\n",
    "    plt.xlabel('Recall')\n",
    "    plt.ylabel('Precision')\n",
    "    plt.title('Precision-Recall Curve')\n",
    "    plt.legend()\n",
    "    plt.show()\n",
    "    \n",
    "    print(f'ROC Auc is {roc_auc}.')\n",
    "    plt.figure()\n",
    "    plt.plot(fpr, tpr, color='darkorange', lw=2, label='ROC curve (area = %0.2f)' % roc_auc)\n",
    "    plt.plot([0, 1], [0, 1], color='navy', lw=2, linestyle='--')\n",
    "    plt.xlim([0.0, 1.0])\n",
    "    plt.ylim([0.0, 1.05])\n",
    "    plt.title(f'ROC curve')\n",
    "    plt.xlabel('False Positive Rate')\n",
    "    plt.ylabel('True Positive Rate')\n",
    "    plt.legend(loc=\"lower right\")\n",
    "    plt.show()"
   ]
  },
  {
   "cell_type": "code",
   "execution_count": 49,
   "metadata": {},
   "outputs": [
    {
     "data": {
      "image/png": "[encoded data removed]",
      "text/plain": [
       "<Figure size 1400x250 with 2 Axes>"
      ]
     },
     "metadata": {},
     "output_type": "display_data"
    }
   ],
   "source": [
    "# visulized on many sample on validation data\n",
    "sample_value = 2\n",
    "# samples = random.sample(split_time_test, sample_value)\n",
    "samples = [split_time_test[8], split_time_test[9]]\n",
    "\n",
    "fig, axs = plt.subplots(1, sample_value, figsize=(14, 2.5))\n",
    "\n",
    "# y_test\n",
    "# preds\n",
    "\n",
    "for i in range(sample_value):\n",
    "    true = [y_test1[i] for i in range(samples[i][0], samples[i][1])]\n",
    "    axs[i].plot(true, label='true')\n",
    "    prediction = [preds[i] for i in range(samples[i][0], samples[i][1])]\n",
    "    # prediction = [1 if preds[i] > 0.5 else 0  for i in range(samples[i][0], samples[i][1])]\n",
    "    # axs[i].plot(prediction, label='pred')\n",
    "\n",
    "plt.legend()\n",
    "plt.show()"
   ]
  },
  {
   "cell_type": "code",
   "execution_count": 50,
   "metadata": {},
   "outputs": [
    {
     "data": {
      "text/plain": [
       "['2023-04-17_qc00_exp4_#03_All.csv', '2023-04-01_qc00_exp2_#04_B1B3.csv']"
      ]
     },
     "execution_count": 50,
     "metadata": {},
     "output_type": "execute_result"
    }
   ],
   "source": [
    "A = [test_dir_list[split_time_test.index(s)] for s in samples]\n",
    "A"
   ]
  },
  {
   "cell_type": "code",
   "execution_count": 51,
   "metadata": {
    "colab": {
     "base_uri": "https://localhost:8080/",
     "height": 278
    },
    "id": "J7iYV79uxHjd",
    "outputId": "c5b4b1cf-e26e-4679-da90-26a55f9512ba"
   },
   "outputs": [
    {
     "data": {
      "image/png": "[encoded data removed]",
      "text/plain": [
       "<Figure size 1400x250 with 2 Axes>"
      ]
     },
     "metadata": {},
     "output_type": "display_data"
    }
   ],
   "source": [
    "# Check whether it do good on training data\n",
    "sample_value = 2\n",
    "samples = random.sample(split_time_train, sample_value)\n",
    "preds_train = model.predict(train_data1)\n",
    "\n",
    "fig, axs = plt.subplots(1, sample_value, figsize=(14, 2.5))\n",
    "\n",
    "for i in range(sample_value):\n",
    "    true = [y_train1[i] for i in range(samples[i][0], samples[i][1])]\n",
    "    axs[i].plot(true)\n",
    "    # Plot Handover happen place\n",
    "    arr = [y_train2[i] for i in range(samples[i][0], samples[i][1])]\n",
    "    indices = (np.roll(arr, -1) == 1)\n",
    "    indices[0] = False    \n",
    "    xy = [(i, 1) for i, x in enumerate(indices) if x == True]\n",
    "    x = [a[0] for a in xy]\n",
    "    y = [a[1] for a in xy]\n",
    "    axs[i].scatter(x, y, marker=\"X\", color='red', s=100, zorder=2, label='HO')\n",
    "\n",
    "    axs[i].set_yticks([0, 1])\n",
    "    axs[i].set_xlabel('Time')\n",
    "    prediction = [preds_train[i] for i in range(samples[i][0], samples[i][1])]\n",
    "    # prediction = [1 if preds_train[i] > 0.5 else 0  for i in range(samples[i][0], samples[i][1])]\n",
    "    # axs[i].plot(prediction, label='pred')\n",
    "\n",
    "plt.legend()\n",
    "plt.show()"
   ]
  },
  {
   "cell_type": "markdown",
   "metadata": {},
   "source": [
    "# Forecast and Gridsearch"
   ]
  },
  {
   "attachments": {},
   "cell_type": "markdown",
   "metadata": {},
   "source": [
    "### Forecast"
   ]
  },
  {
   "cell_type": "code",
   "execution_count": 52,
   "metadata": {},
   "outputs": [],
   "source": [
    "# Parameters\n",
    "lr = 0.3\n",
    "max_d = 7\n",
    "n_esti = 200\n",
    "subsample = 1\n",
    "colsample_bytree = 0.9\n",
    "reg_alpha = 0.5\n",
    "gamma = 0.1\n",
    "task = 'forecast'\n",
    "\n",
    "params = {\n",
    "        \"objective\": \"reg:squarederror\", \"tree_method\": \"gpu_hist\", 'eta': lr, 'max_depth': max_d,\n",
    "        'subsample': subsample, 'colsample_bytree': colsample_bytree, 'alpha': reg_alpha,'gamma': gamma,  \n",
    "        'seed': seed,'eval_metric': ['rmse', 'mae']\n",
    "        }"
   ]
  },
  {
   "cell_type": "code",
   "execution_count": 53,
   "metadata": {},
   "outputs": [
    {
     "name": "stdout",
     "output_type": "stream",
     "text": [
      "[0]\ttrain-rmse:2.61591\ttrain-mae:2.24599\tvalid-rmse:2.66278\tvalid-mae:2.28004\n",
      "[1]\ttrain-rmse:2.44043\ttrain-mae:2.07420\tvalid-rmse:2.53301\tvalid-mae:2.14621\n"
     ]
    },
    {
     "name": "stdout",
     "output_type": "stream",
     "text": [
      "[2]\ttrain-rmse:2.30149\ttrain-mae:1.93190\tvalid-rmse:2.43473\tvalid-mae:2.03606\n",
      "[3]\ttrain-rmse:2.20350\ttrain-mae:1.83238\tvalid-rmse:2.37202\tvalid-mae:1.96223\n",
      "[4]\ttrain-rmse:2.11872\ttrain-mae:1.74334\tvalid-rmse:2.32224\tvalid-mae:1.90019\n",
      "[5]\ttrain-rmse:2.04800\ttrain-mae:1.67174\tvalid-rmse:2.28665\tvalid-mae:1.85448\n",
      "[6]\ttrain-rmse:1.97162\ttrain-mae:1.59791\tvalid-rmse:2.25490\tvalid-mae:1.81392\n",
      "[7]\ttrain-rmse:1.91883\ttrain-mae:1.54433\tvalid-rmse:2.23589\tvalid-mae:1.78608\n",
      "[8]\ttrain-rmse:1.87197\ttrain-mae:1.50050\tvalid-rmse:2.22467\tvalid-mae:1.76977\n",
      "[9]\ttrain-rmse:1.83900\ttrain-mae:1.46590\tvalid-rmse:2.21412\tvalid-mae:1.75590\n",
      "[10]\ttrain-rmse:1.80681\ttrain-mae:1.43467\tvalid-rmse:2.20854\tvalid-mae:1.74642\n",
      "[11]\ttrain-rmse:1.77085\ttrain-mae:1.40197\tvalid-rmse:2.20673\tvalid-mae:1.74279\n",
      "[12]\ttrain-rmse:1.75091\ttrain-mae:1.38318\tvalid-rmse:2.20559\tvalid-mae:1.73821\n",
      "[13]\ttrain-rmse:1.72886\ttrain-mae:1.36315\tvalid-rmse:2.20137\tvalid-mae:1.73255\n",
      "[14]\ttrain-rmse:1.71604\ttrain-mae:1.35143\tvalid-rmse:2.19730\tvalid-mae:1.72801\n",
      "[15]\ttrain-rmse:1.68289\ttrain-mae:1.31962\tvalid-rmse:2.19215\tvalid-mae:1.71978\n",
      "[16]\ttrain-rmse:1.64164\ttrain-mae:1.28254\tvalid-rmse:2.19111\tvalid-mae:1.71323\n",
      "[17]\ttrain-rmse:1.61741\ttrain-mae:1.26022\tvalid-rmse:2.17962\tvalid-mae:1.70130\n",
      "[18]\ttrain-rmse:1.59621\ttrain-mae:1.24218\tvalid-rmse:2.18021\tvalid-mae:1.69967\n",
      "[19]\ttrain-rmse:1.56913\ttrain-mae:1.21810\tvalid-rmse:2.17676\tvalid-mae:1.69311\n",
      "[20]\ttrain-rmse:1.54186\ttrain-mae:1.19479\tvalid-rmse:2.17370\tvalid-mae:1.68681\n",
      "[21]\ttrain-rmse:1.52116\ttrain-mae:1.17649\tvalid-rmse:2.17504\tvalid-mae:1.68444\n"
     ]
    },
    {
     "name": "stderr",
     "output_type": "stream",
     "text": [
      "/home/vincentpai/anaconda3/envs/wmnlab/lib/python3.9/site-packages/xgboost/core.py:160: UserWarning: [11:47:40] WARNING: /workspace/src/common/error_msg.cc:27: The tree method `gpu_hist` is deprecated since 2.0.0. To use GPU training, set the `device` parameter to CUDA instead.\n",
      "\n",
      "    E.g. tree_method = \"hist\", device = \"cuda\"\n",
      "\n",
      "  warnings.warn(smsg, UserWarning)\n"
     ]
    },
    {
     "name": "stdout",
     "output_type": "stream",
     "text": [
      "[22]\ttrain-rmse:1.51034\ttrain-mae:1.16626\tvalid-rmse:2.17368\tvalid-mae:1.68235\n",
      "[23]\ttrain-rmse:1.48835\ttrain-mae:1.14663\tvalid-rmse:2.17632\tvalid-mae:1.68540\n",
      "[24]\ttrain-rmse:1.47572\ttrain-mae:1.13578\tvalid-rmse:2.17251\tvalid-mae:1.68219\n",
      "[25]\ttrain-rmse:1.44194\ttrain-mae:1.10869\tvalid-rmse:2.16813\tvalid-mae:1.67864\n",
      "[26]\ttrain-rmse:1.41936\ttrain-mae:1.08957\tvalid-rmse:2.16490\tvalid-mae:1.67433\n",
      "[27]\ttrain-rmse:1.40225\ttrain-mae:1.07374\tvalid-rmse:2.16249\tvalid-mae:1.66999\n",
      "[28]\ttrain-rmse:1.39421\ttrain-mae:1.06657\tvalid-rmse:2.16458\tvalid-mae:1.67199\n",
      "[29]\ttrain-rmse:1.37411\ttrain-mae:1.04839\tvalid-rmse:2.16413\tvalid-mae:1.67159\n",
      "[30]\ttrain-rmse:1.36487\ttrain-mae:1.04039\tvalid-rmse:2.16347\tvalid-mae:1.67055\n",
      "[31]\ttrain-rmse:1.35914\ttrain-mae:1.03468\tvalid-rmse:2.16375\tvalid-mae:1.67097\n",
      "[32]\ttrain-rmse:1.33554\ttrain-mae:1.01706\tvalid-rmse:2.16166\tvalid-mae:1.66889\n",
      "[33]\ttrain-rmse:1.31914\ttrain-mae:1.00175\tvalid-rmse:2.16150\tvalid-mae:1.66701\n",
      "[34]\ttrain-rmse:1.30109\ttrain-mae:0.98701\tvalid-rmse:2.16060\tvalid-mae:1.66704\n",
      "[35]\ttrain-rmse:1.29103\ttrain-mae:0.97782\tvalid-rmse:2.15969\tvalid-mae:1.66607\n",
      "[36]\ttrain-rmse:1.27538\ttrain-mae:0.96508\tvalid-rmse:2.15760\tvalid-mae:1.66504\n",
      "[37]\ttrain-rmse:1.25922\ttrain-mae:0.95261\tvalid-rmse:2.15467\tvalid-mae:1.66211\n",
      "[38]\ttrain-rmse:1.23325\ttrain-mae:0.93362\tvalid-rmse:2.15306\tvalid-mae:1.66022\n",
      "[39]\ttrain-rmse:1.22361\ttrain-mae:0.92459\tvalid-rmse:2.15325\tvalid-mae:1.65882\n",
      "[40]\ttrain-rmse:1.21072\ttrain-mae:0.91403\tvalid-rmse:2.15221\tvalid-mae:1.65791\n",
      "[41]\ttrain-rmse:1.19908\ttrain-mae:0.90426\tvalid-rmse:2.15231\tvalid-mae:1.65763\n",
      "[42]\ttrain-rmse:1.18584\ttrain-mae:0.89270\tvalid-rmse:2.15277\tvalid-mae:1.65666\n",
      "[43]\ttrain-rmse:1.17276\ttrain-mae:0.88080\tvalid-rmse:2.15200\tvalid-mae:1.65634\n",
      "[44]\ttrain-rmse:1.16406\ttrain-mae:0.87281\tvalid-rmse:2.14611\tvalid-mae:1.65216\n",
      "[45]\ttrain-rmse:1.14875\ttrain-mae:0.86082\tvalid-rmse:2.14703\tvalid-mae:1.65191\n",
      "[46]\ttrain-rmse:1.12993\ttrain-mae:0.84569\tvalid-rmse:2.14852\tvalid-mae:1.65341\n",
      "[47]\ttrain-rmse:1.11294\ttrain-mae:0.83201\tvalid-rmse:2.14639\tvalid-mae:1.64995\n",
      "[48]\ttrain-rmse:1.10312\ttrain-mae:0.82435\tvalid-rmse:2.14782\tvalid-mae:1.65036\n",
      "[49]\ttrain-rmse:1.08532\ttrain-mae:0.81043\tvalid-rmse:2.14599\tvalid-mae:1.64934\n",
      "[50]\ttrain-rmse:1.07689\ttrain-mae:0.80298\tvalid-rmse:2.14646\tvalid-mae:1.64883\n",
      "[51]\ttrain-rmse:1.07103\ttrain-mae:0.79802\tvalid-rmse:2.14471\tvalid-mae:1.64739\n",
      "[52]\ttrain-rmse:1.05335\ttrain-mae:0.78396\tvalid-rmse:2.14491\tvalid-mae:1.64701\n",
      "[53]\ttrain-rmse:1.03422\ttrain-mae:0.76933\tvalid-rmse:2.14144\tvalid-mae:1.64325\n",
      "[54]\ttrain-rmse:1.02476\ttrain-mae:0.76016\tvalid-rmse:2.14228\tvalid-mae:1.64523\n",
      "[55]\ttrain-rmse:1.01295\ttrain-mae:0.75191\tvalid-rmse:2.14068\tvalid-mae:1.64431\n",
      "[56]\ttrain-rmse:0.99881\ttrain-mae:0.73977\tvalid-rmse:2.14035\tvalid-mae:1.64349\n",
      "[57]\ttrain-rmse:0.98166\ttrain-mae:0.72663\tvalid-rmse:2.13998\tvalid-mae:1.64183\n",
      "[58]\ttrain-rmse:0.97428\ttrain-mae:0.71946\tvalid-rmse:2.13925\tvalid-mae:1.64032\n",
      "[59]\ttrain-rmse:0.96872\ttrain-mae:0.71447\tvalid-rmse:2.13706\tvalid-mae:1.63867\n",
      "[60]\ttrain-rmse:0.95221\ttrain-mae:0.70277\tvalid-rmse:2.13699\tvalid-mae:1.63880\n",
      "[61]\ttrain-rmse:0.94486\ttrain-mae:0.69625\tvalid-rmse:2.13688\tvalid-mae:1.63854\n",
      "[62]\ttrain-rmse:0.93482\ttrain-mae:0.68747\tvalid-rmse:2.13706\tvalid-mae:1.63885\n",
      "[63]\ttrain-rmse:0.92781\ttrain-mae:0.68107\tvalid-rmse:2.13555\tvalid-mae:1.63766\n",
      "[64]\ttrain-rmse:0.91869\ttrain-mae:0.67234\tvalid-rmse:2.13515\tvalid-mae:1.63710\n",
      "[65]\ttrain-rmse:0.90794\ttrain-mae:0.66351\tvalid-rmse:2.13629\tvalid-mae:1.63830\n",
      "[66]\ttrain-rmse:0.90394\ttrain-mae:0.65947\tvalid-rmse:2.13649\tvalid-mae:1.63810\n",
      "[67]\ttrain-rmse:0.89248\ttrain-mae:0.65176\tvalid-rmse:2.13753\tvalid-mae:1.63874\n",
      "[68]\ttrain-rmse:0.88803\ttrain-mae:0.64782\tvalid-rmse:2.13613\tvalid-mae:1.63783\n",
      "[69]\ttrain-rmse:0.87774\ttrain-mae:0.63956\tvalid-rmse:2.13660\tvalid-mae:1.63746\n",
      "[70]\ttrain-rmse:0.87336\ttrain-mae:0.63611\tvalid-rmse:2.13689\tvalid-mae:1.63721\n",
      "[71]\ttrain-rmse:0.85820\ttrain-mae:0.62512\tvalid-rmse:2.13798\tvalid-mae:1.63779\n",
      "[72]\ttrain-rmse:0.85101\ttrain-mae:0.61826\tvalid-rmse:2.13757\tvalid-mae:1.63743\n",
      "[73]\ttrain-rmse:0.83815\ttrain-mae:0.60874\tvalid-rmse:2.13786\tvalid-mae:1.63732\n"
     ]
    }
   ],
   "source": [
    "model2 = xgb.train(\n",
    "    params=params,\n",
    "    dtrain=train_data2,\n",
    "    num_boost_round=600,\n",
    "    evals=[(train_data2, 'train'), (test_data2, 'valid')],\n",
    "    early_stopping_rounds=10,\n",
    "    # verbose_eval=False\n",
    ")"
   ]
  },
  {
   "cell_type": "code",
   "execution_count": 54,
   "metadata": {},
   "outputs": [
    {
     "name": "stderr",
     "output_type": "stream",
     "text": [
      "/home/vincentpai/anaconda3/envs/wmnlab/lib/python3.9/site-packages/xgboost/core.py:160: UserWarning: [11:47:42] WARNING: /workspace/src/common/error_msg.cc:27: The tree method `gpu_hist` is deprecated since 2.0.0. To use GPU training, set the `device` parameter to CUDA instead.\n",
      "\n",
      "    E.g. tree_method = \"hist\", device = \"cuda\"\n",
      "\n",
      "  warnings.warn(smsg, UserWarning)\n"
     ]
    }
   ],
   "source": [
    "preds2 = model2.predict(test_data2)"
   ]
  },
  {
   "cell_type": "code",
   "execution_count": 55,
   "metadata": {},
   "outputs": [
    {
     "name": "stderr",
     "output_type": "stream",
     "text": [
      "/home/vincentpai/anaconda3/envs/wmnlab/lib/python3.9/site-packages/sklearn/metrics/_regression.py:483: FutureWarning: 'squared' is deprecated in version 1.4 and will be removed in 1.6. To calculate the root mean squared error, use the function'root_mean_squared_error'.\n",
      "  warnings.warn(\n"
     ]
    },
    {
     "data": {
      "text/plain": [
       "(2.1380367363762702, 1.6375310838206232)"
      ]
     },
     "execution_count": 55,
     "metadata": {},
     "output_type": "execute_result"
    }
   ],
   "source": [
    "rmse = mean_squared_error(y_test2_fore, preds2, squared=False)\n",
    "mae = mean_absolute_error(y_test2_fore, preds2)\n",
    "rmse, mae"
   ]
  },
  {
   "attachments": {},
   "cell_type": "markdown",
   "metadata": {},
   "source": [
    "## grid search"
   ]
  },
  {
   "attachments": {},
   "cell_type": "markdown",
   "metadata": {},
   "source": [
    "### Search on task"
   ]
  },
  {
   "cell_type": "code",
   "execution_count": 56,
   "metadata": {},
   "outputs": [],
   "source": [
    "import itertools"
   ]
  },
  {
   "cell_type": "code",
   "execution_count": 57,
   "metadata": {},
   "outputs": [
    {
     "name": "stdout",
     "output_type": "stream",
     "text": [
      "Loading training data...\n"
     ]
    },
    {
     "data": {
      "application/vnd.jupyter.widget-view+json": {
       "model_id": "29af44030f754862a22ae9050a68d440",
       "version_major": 2,
       "version_minor": 0
      },
      "text/plain": [
       "  0%|          | 0/136 [00:00<?, ?it/s]"
      ]
     },
     "metadata": {},
     "output_type": "display_data"
    },
    {
     "name": "stdout",
     "output_type": "stream",
     "text": [
      "Loading testing data...\n"
     ]
    },
    {
     "data": {
      "application/vnd.jupyter.widget-view+json": {
       "model_id": "1d19090ab4b24c43bf29364057362105",
       "version_major": 2,
       "version_minor": 0
      },
      "text/plain": [
       "  0%|          | 0/33 [00:00<?, ?it/s]"
      ]
     },
     "metadata": {},
     "output_type": "display_data"
    },
    {
     "name": "stdout",
     "output_type": "stream",
     "text": [
      "rmse: 0.0, mae: 0.0\n",
      "Loading training data...\n"
     ]
    },
    {
     "name": "stderr",
     "output_type": "stream",
     "text": [
      "/home/vincentpai/anaconda3/envs/wmnlab/lib/python3.9/site-packages/xgboost/core.py:160: UserWarning: [11:47:48] WARNING: /workspace/src/common/error_msg.cc:27: The tree method `gpu_hist` is deprecated since 2.0.0. To use GPU training, set the `device` parameter to CUDA instead.\n",
      "\n",
      "    E.g. tree_method = \"hist\", device = \"cuda\"\n",
      "\n",
      "  warnings.warn(smsg, UserWarning)\n",
      "/home/vincentpai/anaconda3/envs/wmnlab/lib/python3.9/site-packages/sklearn/metrics/_regression.py:483: FutureWarning: 'squared' is deprecated in version 1.4 and will be removed in 1.6. To calculate the root mean squared error, use the function'root_mean_squared_error'.\n",
      "  warnings.warn(\n"
     ]
    },
    {
     "data": {
      "application/vnd.jupyter.widget-view+json": {
       "model_id": "f5baf68211f745cb9097b3d0ee8142b6",
       "version_major": 2,
       "version_minor": 0
      },
      "text/plain": [
       "  0%|          | 0/136 [00:00<?, ?it/s]"
      ]
     },
     "metadata": {},
     "output_type": "display_data"
    },
    {
     "name": "stdout",
     "output_type": "stream",
     "text": [
      "Loading testing data...\n"
     ]
    },
    {
     "data": {
      "application/vnd.jupyter.widget-view+json": {
       "model_id": "3a78932fc2fc4cbaa094c4055a0e6461",
       "version_major": 2,
       "version_minor": 0
      },
      "text/plain": [
       "  0%|          | 0/33 [00:00<?, ?it/s]"
      ]
     },
     "metadata": {},
     "output_type": "display_data"
    },
    {
     "name": "stdout",
     "output_type": "stream",
     "text": [
      "rmse: 0.47297396316079726, mae: 0.42083200051251474\n",
      "Loading training data...\n"
     ]
    },
    {
     "name": "stderr",
     "output_type": "stream",
     "text": [
      "/home/vincentpai/anaconda3/envs/wmnlab/lib/python3.9/site-packages/xgboost/core.py:160: UserWarning: [11:47:52] WARNING: /workspace/src/common/error_msg.cc:27: The tree method `gpu_hist` is deprecated since 2.0.0. To use GPU training, set the `device` parameter to CUDA instead.\n",
      "\n",
      "    E.g. tree_method = \"hist\", device = \"cuda\"\n",
      "\n",
      "  warnings.warn(smsg, UserWarning)\n",
      "/home/vincentpai/anaconda3/envs/wmnlab/lib/python3.9/site-packages/sklearn/metrics/_regression.py:483: FutureWarning: 'squared' is deprecated in version 1.4 and will be removed in 1.6. To calculate the root mean squared error, use the function'root_mean_squared_error'.\n",
      "  warnings.warn(\n"
     ]
    },
    {
     "data": {
      "application/vnd.jupyter.widget-view+json": {
       "model_id": "6bb1e2e5a1084fa79d72ecac6872ff80",
       "version_major": 2,
       "version_minor": 0
      },
      "text/plain": [
       "  0%|          | 0/136 [00:00<?, ?it/s]"
      ]
     },
     "metadata": {},
     "output_type": "display_data"
    },
    {
     "ename": "KeyboardInterrupt",
     "evalue": "",
     "output_type": "error",
     "traceback": [
      "\u001b[0;31m---------------------------------------------------------------------------\u001b[0m",
      "\u001b[0;31mKeyboardInterrupt\u001b[0m                         Traceback (most recent call last)",
      "Cell \u001b[0;32mIn[57], line 48\u001b[0m\n\u001b[1;32m     44\u001b[0m \u001b[38;5;28;01mfor\u001b[39;00m time_seq, predict_t \u001b[38;5;129;01min\u001b[39;00m itertools\u001b[38;5;241m.\u001b[39mproduct(time_seqs, predict_ts):\n\u001b[1;32m     45\u001b[0m \n\u001b[1;32m     46\u001b[0m         \u001b[38;5;66;03m# Data\u001b[39;00m\n\u001b[1;32m     47\u001b[0m         \u001b[38;5;28mprint\u001b[39m(\u001b[38;5;124m'\u001b[39m\u001b[38;5;124mLoading training data...\u001b[39m\u001b[38;5;124m'\u001b[39m)\n\u001b[0;32m---> 48\u001b[0m         X_train, y_train1, y_train2, split_time_train \u001b[38;5;241m=\u001b[39m \u001b[43mts_array_create\u001b[49m\u001b[43m(\u001b[49m\u001b[43mdirname\u001b[49m\u001b[43m,\u001b[49m\u001b[43m \u001b[49m\u001b[43mtrain_dir_list\u001b[49m\u001b[43m,\u001b[49m\u001b[43m \u001b[49m\u001b[43mtime_seq\u001b[49m\u001b[43m)\u001b[49m\n\u001b[1;32m     49\u001b[0m         X_train_2d \u001b[38;5;241m=\u001b[39m X_train\u001b[38;5;241m.\u001b[39mreshape(\u001b[38;5;241m-\u001b[39m\u001b[38;5;241m1\u001b[39m, time_seq\u001b[38;5;241m*\u001b[39mnum_of_features)\n\u001b[1;32m     50\u001b[0m         cond \u001b[38;5;241m=\u001b[39m y_train2 \u001b[38;5;241m>\u001b[39m \u001b[38;5;241m0\u001b[39m\n",
      "Cell \u001b[0;32mIn[38], line 67\u001b[0m, in \u001b[0;36mts_array_create\u001b[0;34m(dirname, dir_list, time_seq)\u001b[0m\n\u001b[1;32m     65\u001b[0m         Y_final \u001b[38;5;241m=\u001b[39m Y_ts\n\u001b[1;32m     66\u001b[0m     \u001b[38;5;28;01melse\u001b[39;00m:\n\u001b[0;32m---> 67\u001b[0m         X_final \u001b[38;5;241m=\u001b[39m \u001b[43mnp\u001b[49m\u001b[38;5;241;43m.\u001b[39;49m\u001b[43mconcatenate\u001b[49m\u001b[43m(\u001b[49m\u001b[43m(\u001b[49m\u001b[43mX_final\u001b[49m\u001b[43m,\u001b[49m\u001b[43mX_ts\u001b[49m\u001b[43m)\u001b[49m\u001b[43m,\u001b[49m\u001b[43m \u001b[49m\u001b[43maxis\u001b[49m\u001b[38;5;241;43m=\u001b[39;49m\u001b[38;5;241;43m0\u001b[39;49m\u001b[43m)\u001b[49m\n\u001b[1;32m     68\u001b[0m         Y_final \u001b[38;5;241m=\u001b[39m np\u001b[38;5;241m.\u001b[39mconcatenate((Y_final,Y_ts), axis\u001b[38;5;241m=\u001b[39m\u001b[38;5;241m0\u001b[39m)\n\u001b[1;32m     70\u001b[0m split_time \u001b[38;5;241m=\u001b[39m [(\u001b[38;5;28msum\u001b[39m(split_time[:i]), \u001b[38;5;28msum\u001b[39m(split_time[:i])\u001b[38;5;241m+\u001b[39mx) \u001b[38;5;28;01mfor\u001b[39;00m i, x \u001b[38;5;129;01min\u001b[39;00m \u001b[38;5;28menumerate\u001b[39m(split_time)]\n",
      "\u001b[0;31mKeyboardInterrupt\u001b[0m: "
     ]
    }
   ],
   "source": [
    "# Load Data\n",
    "valid_ratio = 0.2\n",
    "task = 'forecast'\n",
    "\n",
    "dir_list = os.listdir(dirname)\n",
    "dir_list = [f for f in dir_list if ( f.endswith('.csv') and (not 'sm' in f) ) ]\n",
    "\n",
    "train_dir_list, test_dir_list = train_valid_split(dir_list, valid_ratio)\n",
    "# train_dir_list += [f for f in os.listdir(dirname) if 'sm' in f]\n",
    "\n",
    "# Select which feature to use.\n",
    "features = ['LTE_HO', 'MN_HO', 'eNB_to_ENDC', 'gNB_Rel', 'gNB_HO', 'RLF', 'SCG_RLF',\n",
    "        'num_of_neis', 'RSRP', 'RSRQ', 'RSRP1', 'RSRQ1','nr-RSRP', 'nr-RSRQ', 'nr-RSRP1', 'nr-RSRQ1']\n",
    "\n",
    "num_of_features = len(features)\n",
    "\n",
    "# Prediction Task\n",
    "target = ['LTE_HO', 'MN_HO'] # For eNB HO.\n",
    "# target = ['eNB_to_ENDC'] # Setup gNB\n",
    "# target = ['gNB_Rel', 'gNB_HO'] # For gNB HO.\n",
    "# target = ['RLF'] # For RLF\n",
    "# target = ['SCG_RLF'] # For scg failure\n",
    "# target = ['dl-loss'] # For DL loss\n",
    "# target = ['ul-loss'] # For UL loss\n",
    "\n",
    " # record file\n",
    "out = '../info/forecast_lte_HO.csv'\n",
    "f_out = open(out, mode='w')\n",
    "cols_out = ['t_seq','t_pred','lr','max_dep','n_esti','subsample','colsample_bytree','reg_alpha','gamma','rmse','mae']\n",
    "f_out.write(','.join(cols_out)+'\\n')\n",
    "\n",
    "time_seqs = [20]\n",
    "predict_ts = list(range(1,31))\n",
    "\n",
    "# Parameters\n",
    "lrs = [0.3]\n",
    "max_ds = [7]\n",
    "n_estis = [200]\n",
    "subsamples = [1]\n",
    "colsample_bytrees = [0.9]\n",
    "reg_alphas = [0.5]\n",
    "gammas = [0.1]\n",
    "        \n",
    "for time_seq, predict_t in itertools.product(time_seqs, predict_ts):\n",
    "\n",
    "        # Data\n",
    "        print('Loading training data...')\n",
    "        X_train, y_train1, y_train2, split_time_train = ts_array_create(dirname, train_dir_list, time_seq)\n",
    "        X_train_2d = X_train.reshape(-1, time_seq*num_of_features)\n",
    "        cond = y_train2 > 0\n",
    "        X_train_fore = X_train_2d[cond]\n",
    "        y_train2_fore = y_train2[cond]\n",
    "\n",
    "\n",
    "        print('Loading testing data...')\n",
    "        X_test, y_test1, y_test2, split_time_test = ts_array_create(dirname, test_dir_list, time_seq)\n",
    "        X_test_2d = X_test.reshape(-1, time_seq*num_of_features)\n",
    "        cond = y_test2 > 0\n",
    "        X_test_fore = X_test_2d[cond]\n",
    "        y_test2_fore = y_test2[cond]\n",
    "\n",
    "        # xgb DMatrix\n",
    "        train_data1 = xgb.DMatrix(X_train_2d, label=y_train1)\n",
    "        train_data2 = xgb.DMatrix(X_train_fore, label=y_train2_fore)\n",
    "\n",
    "        test_data1 = xgb.DMatrix(X_test_2d, label=y_test1)\n",
    "        test_data2 = xgb.DMatrix(X_test_fore, label=y_test2_fore)\n",
    "\n",
    "        for lr, max_d, n_esti, subsample, colsample_bytree, reg_alpha, gamma in itertools.product(lrs, max_ds, n_estis, subsamples, colsample_bytrees, reg_alphas, gammas):\n",
    "\n",
    "                params = {\n",
    "                        \"objective\": \"reg:squarederror\", \"tree_method\": \"gpu_hist\", 'eta': lr, 'max_depth': max_d,\n",
    "                        'subsample': subsample, 'colsample_bytree': colsample_bytree, 'alpha': reg_alpha,'gamma': gamma,  \n",
    "                        'seed': seed,'eval_metric': ['rmse', 'mae']\n",
    "                        }\n",
    "\n",
    "                model = xgb.train(\n",
    "                params=params, dtrain=train_data2, num_boost_round=600,\n",
    "                evals=[(train_data2, 'train'), (test_data2, 'valid')], early_stopping_rounds=10, verbose_eval=False\n",
    "                )\n",
    "\n",
    "                preds = model.predict(test_data2)\n",
    "\n",
    "                rmse = mean_squared_error(y_test2_fore, preds, squared=False)\n",
    "                mae = mean_absolute_error(y_test2_fore, preds)\n",
    "\n",
    "                cols_out = [time_seq, predict_t, lr, max_d, n_esti, subsample, colsample_bytree, reg_alpha, gamma, rmse,mae]\n",
    "                cols_out = [str(n) for n in cols_out]\n",
    "                f_out.write(','.join(cols_out)+'\\n')\n",
    "        \n",
    "        print(f'rmse: {rmse}, mae: {mae}')\n",
    "        \n",
    "f_out.close()"
   ]
  },
  {
   "attachments": {},
   "cell_type": "markdown",
   "metadata": {},
   "source": [
    "## Classification and Forecast"
   ]
  },
  {
   "attachments": {},
   "cell_type": "markdown",
   "metadata": {},
   "source": [
    "### Visualization"
   ]
  },
  {
   "cell_type": "code",
   "execution_count": 26,
   "metadata": {},
   "outputs": [
    {
     "ename": "NameError",
     "evalue": "name 'model1' is not defined",
     "output_type": "error",
     "traceback": [
      "\u001b[0;31m---------------------------------------------------------------------------\u001b[0m",
      "\u001b[0;31mNameError\u001b[0m                                 Traceback (most recent call last)",
      "Cell \u001b[0;32mIn[26], line 2\u001b[0m\n\u001b[1;32m      1\u001b[0m test_data \u001b[38;5;241m=\u001b[39m xgb\u001b[38;5;241m.\u001b[39mDMatrix(X_test_2d)\n\u001b[0;32m----> 2\u001b[0m preds_ho \u001b[38;5;241m=\u001b[39m \u001b[43mmodel1\u001b[49m\u001b[38;5;241m.\u001b[39mpredict(test_data)\n\u001b[1;32m      3\u001b[0m preds_ho_time \u001b[38;5;241m=\u001b[39m model2\u001b[38;5;241m.\u001b[39mpredict(test_data)\n",
      "\u001b[0;31mNameError\u001b[0m: name 'model1' is not defined"
     ]
    }
   ],
   "source": [
    "test_data = xgb.DMatrix(X_test_2d)\n",
    "preds_ho = model1.predict(test_data)\n",
    "preds_ho_time = model2.predict(test_data)"
   ]
  },
  {
   "cell_type": "code",
   "execution_count": null,
   "metadata": {},
   "outputs": [],
   "source": [
    "ans = np.where(preds_ho>0.5, preds_ho_time, 0)"
   ]
  },
  {
   "cell_type": "code",
   "execution_count": null,
   "metadata": {},
   "outputs": [],
   "source": [
    "# visulized on many sample on validation data\n",
    "sample_value = 2\n",
    "# samples = random.sample(split_time_test, sample_value)\n",
    "samples = [split_time_test[0], split_time_test[1]]\n",
    "\n",
    "fig, axs = plt.subplots(1, sample_value, figsize=(14, 2.5))\n",
    "\n",
    "for i in range(sample_value):\n",
    "    \n",
    "    true_ho_time = [y_test2[i] for i in range(samples[i][0], samples[i][1])]\n",
    "        \n",
    "    axs[i].plot(true_ho_time, label='true')\n",
    "    prediciton_ho = [ans[i] for i in range(samples[i][0], samples[i][1])]\n",
    "    axs[i].plot(prediciton_ho, label='pred')\n",
    "\n",
    "plt.legend()\n",
    "plt.show()"
   ]
  },
  {
   "cell_type": "code",
   "execution_count": null,
   "metadata": {},
   "outputs": [],
   "source": [
    "# save model\n",
    "save_path = '/home/wmnlab/Documents/sheng-ru/model/'\n",
    "save_name = 'nr_HO_fcst_xgb.json'\n",
    "f = os.path.join(save_path, save_name)\n",
    "model2.save_model(f)"
   ]
  },
  {
   "cell_type": "code",
   "execution_count": null,
   "metadata": {},
   "outputs": [],
   "source": []
  }
 ],
 "metadata": {
  "accelerator": "GPU",
  "colab": {
   "provenance": []
  },
  "gpuClass": "standard",
  "kernelspec": {
   "display_name": "Python 3 (ipykernel)",
   "language": "python",
   "name": "python3"
  },
  "language_info": {
   "codemirror_mode": {
    "name": "ipython",
    "version": 3
   },
   "file_extension": ".py",
   "mimetype": "text/x-python",
   "name": "python",
   "nbconvert_exporter": "python",
   "pygments_lexer": "ipython3",
   "version": "3.9.12"
  },
  "vscode": {
   "interpreter": {
    "hash": "c7771dd1fbefba0f9e49b3f12d6cb05ea3fc9d8cb4bbb591d0ecb9d07210ade7"
   }
  },
  "widgets": {
   "application/vnd.jupyter.widget-state+json": {
    "0b790cbe3fbb4473a6a2032f3289978c": {
     "model_module": "@jupyter-widgets/controls",
     "model_module_version": "1.5.0",
     "model_name": "HTMLModel",
     "state": {
      "_dom_classes": [],
      "_model_module": "@jupyter-widgets/controls",
      "_model_module_version": "1.5.0",
      "_model_name": "HTMLModel",
      "_view_count": null,
      "_view_module": "@jupyter-widgets/controls",
      "_view_module_version": "1.5.0",
      "_view_name": "HTMLView",
      "description": "",
      "description_tooltip": null,
      "layout": "IPY_MODEL_da193c2493f94ffa83f9515c593dec7b",
      "placeholder": "​",
      "style": "IPY_MODEL_e52a8d7a89ef4e69a51ec0beba114f88",
      "value": " 10/10 [00:00&lt;00:00, 64.32it/s]"
     }
    },
    "3f3f3722cda848e4bd9d91dab9d5a039": {
     "model_module": "@jupyter-widgets/controls",
     "model_module_version": "1.5.0",
     "model_name": "DescriptionStyleModel",
     "state": {
      "_model_module": "@jupyter-widgets/controls",
      "_model_module_version": "1.5.0",
      "_model_name": "DescriptionStyleModel",
      "_view_count": null,
      "_view_module": "@jupyter-widgets/base",
      "_view_module_version": "1.2.0",
      "_view_name": "StyleView",
      "description_width": ""
     }
    },
    "40d6481fc76a434684edc487e01598d7": {
     "model_module": "@jupyter-widgets/base",
     "model_module_version": "1.2.0",
     "model_name": "LayoutModel",
     "state": {
      "_model_module": "@jupyter-widgets/base",
      "_model_module_version": "1.2.0",
      "_model_name": "LayoutModel",
      "_view_count": null,
      "_view_module": "@jupyter-widgets/base",
      "_view_module_version": "1.2.0",
      "_view_name": "LayoutView",
      "align_content": null,
      "align_items": null,
      "align_self": null,
      "border": null,
      "bottom": null,
      "display": null,
      "flex": null,
      "flex_flow": null,
      "grid_area": null,
      "grid_auto_columns": null,
      "grid_auto_flow": null,
      "grid_auto_rows": null,
      "grid_column": null,
      "grid_gap": null,
      "grid_row": null,
      "grid_template_areas": null,
      "grid_template_columns": null,
      "grid_template_rows": null,
      "height": null,
      "justify_content": null,
      "justify_items": null,
      "left": null,
      "margin": null,
      "max_height": null,
      "max_width": null,
      "min_height": null,
      "min_width": null,
      "object_fit": null,
      "object_position": null,
      "order": null,
      "overflow": null,
      "overflow_x": null,
      "overflow_y": null,
      "padding": null,
      "right": null,
      "top": null,
      "visibility": null,
      "width": null
     }
    },
    "4d1d9bc4b7cf4c7fa24ead7c520b89ec": {
     "model_module": "@jupyter-widgets/base",
     "model_module_version": "1.2.0",
     "model_name": "LayoutModel",
     "state": {
      "_model_module": "@jupyter-widgets/base",
      "_model_module_version": "1.2.0",
      "_model_name": "LayoutModel",
      "_view_count": null,
      "_view_module": "@jupyter-widgets/base",
      "_view_module_version": "1.2.0",
      "_view_name": "LayoutView",
      "align_content": null,
      "align_items": null,
      "align_self": null,
      "border": null,
      "bottom": null,
      "display": null,
      "flex": null,
      "flex_flow": null,
      "grid_area": null,
      "grid_auto_columns": null,
      "grid_auto_flow": null,
      "grid_auto_rows": null,
      "grid_column": null,
      "grid_gap": null,
      "grid_row": null,
      "grid_template_areas": null,
      "grid_template_columns": null,
      "grid_template_rows": null,
      "height": null,
      "justify_content": null,
      "justify_items": null,
      "left": null,
      "margin": null,
      "max_height": null,
      "max_width": null,
      "min_height": null,
      "min_width": null,
      "object_fit": null,
      "object_position": null,
      "order": null,
      "overflow": null,
      "overflow_x": null,
      "overflow_y": null,
      "padding": null,
      "right": null,
      "top": null,
      "visibility": null,
      "width": null
     }
    },
    "5636d2bb0cd449b48d116d3298d58bee": {
     "model_module": "@jupyter-widgets/controls",
     "model_module_version": "1.5.0",
     "model_name": "HTMLModel",
     "state": {
      "_dom_classes": [],
      "_model_module": "@jupyter-widgets/controls",
      "_model_module_version": "1.5.0",
      "_model_name": "HTMLModel",
      "_view_count": null,
      "_view_module": "@jupyter-widgets/controls",
      "_view_module_version": "1.5.0",
      "_view_name": "HTMLView",
      "description": "",
      "description_tooltip": null,
      "layout": "IPY_MODEL_ebc772528cf84271998836470aeba36c",
      "placeholder": "​",
      "style": "IPY_MODEL_678f5fea727e457a8c870f25ff6a05cf",
      "value": "100%"
     }
    },
    "5bbf1cb462d049ad88d8499bab6cc95b": {
     "model_module": "@jupyter-widgets/controls",
     "model_module_version": "1.5.0",
     "model_name": "ProgressStyleModel",
     "state": {
      "_model_module": "@jupyter-widgets/controls",
      "_model_module_version": "1.5.0",
      "_model_name": "ProgressStyleModel",
      "_view_count": null,
      "_view_module": "@jupyter-widgets/base",
      "_view_module_version": "1.2.0",
      "_view_name": "StyleView",
      "bar_color": null,
      "description_width": ""
     }
    },
    "678f5fea727e457a8c870f25ff6a05cf": {
     "model_module": "@jupyter-widgets/controls",
     "model_module_version": "1.5.0",
     "model_name": "DescriptionStyleModel",
     "state": {
      "_model_module": "@jupyter-widgets/controls",
      "_model_module_version": "1.5.0",
      "_model_name": "DescriptionStyleModel",
      "_view_count": null,
      "_view_module": "@jupyter-widgets/base",
      "_view_module_version": "1.2.0",
      "_view_name": "StyleView",
      "description_width": ""
     }
    },
    "73cf02420329491992b68f57829cdbc2": {
     "model_module": "@jupyter-widgets/controls",
     "model_module_version": "1.5.0",
     "model_name": "ProgressStyleModel",
     "state": {
      "_model_module": "@jupyter-widgets/controls",
      "_model_module_version": "1.5.0",
      "_model_name": "ProgressStyleModel",
      "_view_count": null,
      "_view_module": "@jupyter-widgets/base",
      "_view_module_version": "1.2.0",
      "_view_name": "StyleView",
      "bar_color": null,
      "description_width": ""
     }
    },
    "7bcca89101404ec5934817decb555743": {
     "model_module": "@jupyter-widgets/controls",
     "model_module_version": "1.5.0",
     "model_name": "FloatProgressModel",
     "state": {
      "_dom_classes": [],
      "_model_module": "@jupyter-widgets/controls",
      "_model_module_version": "1.5.0",
      "_model_name": "FloatProgressModel",
      "_view_count": null,
      "_view_module": "@jupyter-widgets/controls",
      "_view_module_version": "1.5.0",
      "_view_name": "ProgressView",
      "bar_style": "success",
      "description": "",
      "description_tooltip": null,
      "layout": "IPY_MODEL_b0bc8f855a78471f8dce833c0fc5c784",
      "max": 10,
      "min": 0,
      "orientation": "horizontal",
      "style": "IPY_MODEL_73cf02420329491992b68f57829cdbc2",
      "value": 10
     }
    },
    "96b79b33bdcb44be81a3c4d7ac67003e": {
     "model_module": "@jupyter-widgets/controls",
     "model_module_version": "1.5.0",
     "model_name": "HTMLModel",
     "state": {
      "_dom_classes": [],
      "_model_module": "@jupyter-widgets/controls",
      "_model_module_version": "1.5.0",
      "_model_name": "HTMLModel",
      "_view_count": null,
      "_view_module": "@jupyter-widgets/controls",
      "_view_module_version": "1.5.0",
      "_view_name": "HTMLView",
      "description": "",
      "description_tooltip": null,
      "layout": "IPY_MODEL_4d1d9bc4b7cf4c7fa24ead7c520b89ec",
      "placeholder": "​",
      "style": "IPY_MODEL_a62edc7a241244888ba8a015c9bda9e2",
      "value": " 13/13 [00:00&lt;00:00, 63.95it/s]"
     }
    },
    "a62edc7a241244888ba8a015c9bda9e2": {
     "model_module": "@jupyter-widgets/controls",
     "model_module_version": "1.5.0",
     "model_name": "DescriptionStyleModel",
     "state": {
      "_model_module": "@jupyter-widgets/controls",
      "_model_module_version": "1.5.0",
      "_model_name": "DescriptionStyleModel",
      "_view_count": null,
      "_view_module": "@jupyter-widgets/base",
      "_view_module_version": "1.2.0",
      "_view_name": "StyleView",
      "description_width": ""
     }
    },
    "a8fda64c546e4b348c749f051194faba": {
     "model_module": "@jupyter-widgets/controls",
     "model_module_version": "1.5.0",
     "model_name": "HBoxModel",
     "state": {
      "_dom_classes": [],
      "_model_module": "@jupyter-widgets/controls",
      "_model_module_version": "1.5.0",
      "_model_name": "HBoxModel",
      "_view_count": null,
      "_view_module": "@jupyter-widgets/controls",
      "_view_module_version": "1.5.0",
      "_view_name": "HBoxView",
      "box_style": "",
      "children": [
       "IPY_MODEL_5636d2bb0cd449b48d116d3298d58bee",
       "IPY_MODEL_e8d4d6ecd06a4e5db72690a07218e55b",
       "IPY_MODEL_96b79b33bdcb44be81a3c4d7ac67003e"
      ],
      "layout": "IPY_MODEL_f50b59266ff241b79ff92690b3639788"
     }
    },
    "b0bc8f855a78471f8dce833c0fc5c784": {
     "model_module": "@jupyter-widgets/base",
     "model_module_version": "1.2.0",
     "model_name": "LayoutModel",
     "state": {
      "_model_module": "@jupyter-widgets/base",
      "_model_module_version": "1.2.0",
      "_model_name": "LayoutModel",
      "_view_count": null,
      "_view_module": "@jupyter-widgets/base",
      "_view_module_version": "1.2.0",
      "_view_name": "LayoutView",
      "align_content": null,
      "align_items": null,
      "align_self": null,
      "border": null,
      "bottom": null,
      "display": null,
      "flex": null,
      "flex_flow": null,
      "grid_area": null,
      "grid_auto_columns": null,
      "grid_auto_flow": null,
      "grid_auto_rows": null,
      "grid_column": null,
      "grid_gap": null,
      "grid_row": null,
      "grid_template_areas": null,
      "grid_template_columns": null,
      "grid_template_rows": null,
      "height": null,
      "justify_content": null,
      "justify_items": null,
      "left": null,
      "margin": null,
      "max_height": null,
      "max_width": null,
      "min_height": null,
      "min_width": null,
      "object_fit": null,
      "object_position": null,
      "order": null,
      "overflow": null,
      "overflow_x": null,
      "overflow_y": null,
      "padding": null,
      "right": null,
      "top": null,
      "visibility": null,
      "width": null
     }
    },
    "b1d6f2469ad440fc83453f57a549a91e": {
     "model_module": "@jupyter-widgets/base",
     "model_module_version": "1.2.0",
     "model_name": "LayoutModel",
     "state": {
      "_model_module": "@jupyter-widgets/base",
      "_model_module_version": "1.2.0",
      "_model_name": "LayoutModel",
      "_view_count": null,
      "_view_module": "@jupyter-widgets/base",
      "_view_module_version": "1.2.0",
      "_view_name": "LayoutView",
      "align_content": null,
      "align_items": null,
      "align_self": null,
      "border": null,
      "bottom": null,
      "display": null,
      "flex": null,
      "flex_flow": null,
      "grid_area": null,
      "grid_auto_columns": null,
      "grid_auto_flow": null,
      "grid_auto_rows": null,
      "grid_column": null,
      "grid_gap": null,
      "grid_row": null,
      "grid_template_areas": null,
      "grid_template_columns": null,
      "grid_template_rows": null,
      "height": null,
      "justify_content": null,
      "justify_items": null,
      "left": null,
      "margin": null,
      "max_height": null,
      "max_width": null,
      "min_height": null,
      "min_width": null,
      "object_fit": null,
      "object_position": null,
      "order": null,
      "overflow": null,
      "overflow_x": null,
      "overflow_y": null,
      "padding": null,
      "right": null,
      "top": null,
      "visibility": null,
      "width": null
     }
    },
    "b5375aa7864748c89a420c181e6c91af": {
     "model_module": "@jupyter-widgets/controls",
     "model_module_version": "1.5.0",
     "model_name": "HTMLModel",
     "state": {
      "_dom_classes": [],
      "_model_module": "@jupyter-widgets/controls",
      "_model_module_version": "1.5.0",
      "_model_name": "HTMLModel",
      "_view_count": null,
      "_view_module": "@jupyter-widgets/controls",
      "_view_module_version": "1.5.0",
      "_view_name": "HTMLView",
      "description": "",
      "description_tooltip": null,
      "layout": "IPY_MODEL_40d6481fc76a434684edc487e01598d7",
      "placeholder": "​",
      "style": "IPY_MODEL_3f3f3722cda848e4bd9d91dab9d5a039",
      "value": "100%"
     }
    },
    "c2a1a91fd6634e5297125ba0837fee03": {
     "model_module": "@jupyter-widgets/controls",
     "model_module_version": "1.5.0",
     "model_name": "HBoxModel",
     "state": {
      "_dom_classes": [],
      "_model_module": "@jupyter-widgets/controls",
      "_model_module_version": "1.5.0",
      "_model_name": "HBoxModel",
      "_view_count": null,
      "_view_module": "@jupyter-widgets/controls",
      "_view_module_version": "1.5.0",
      "_view_name": "HBoxView",
      "box_style": "",
      "children": [
       "IPY_MODEL_b5375aa7864748c89a420c181e6c91af",
       "IPY_MODEL_7bcca89101404ec5934817decb555743",
       "IPY_MODEL_0b790cbe3fbb4473a6a2032f3289978c"
      ],
      "layout": "IPY_MODEL_e7534fee1e8c4b099c1922e2360d5459"
     }
    },
    "da193c2493f94ffa83f9515c593dec7b": {
     "model_module": "@jupyter-widgets/base",
     "model_module_version": "1.2.0",
     "model_name": "LayoutModel",
     "state": {
      "_model_module": "@jupyter-widgets/base",
      "_model_module_version": "1.2.0",
      "_model_name": "LayoutModel",
      "_view_count": null,
      "_view_module": "@jupyter-widgets/base",
      "_view_module_version": "1.2.0",
      "_view_name": "LayoutView",
      "align_content": null,
      "align_items": null,
      "align_self": null,
      "border": null,
      "bottom": null,
      "display": null,
      "flex": null,
      "flex_flow": null,
      "grid_area": null,
      "grid_auto_columns": null,
      "grid_auto_flow": null,
      "grid_auto_rows": null,
      "grid_column": null,
      "grid_gap": null,
      "grid_row": null,
      "grid_template_areas": null,
      "grid_template_columns": null,
      "grid_template_rows": null,
      "height": null,
      "justify_content": null,
      "justify_items": null,
      "left": null,
      "margin": null,
      "max_height": null,
      "max_width": null,
      "min_height": null,
      "min_width": null,
      "object_fit": null,
      "object_position": null,
      "order": null,
      "overflow": null,
      "overflow_x": null,
      "overflow_y": null,
      "padding": null,
      "right": null,
      "top": null,
      "visibility": null,
      "width": null
     }
    },
    "e52a8d7a89ef4e69a51ec0beba114f88": {
     "model_module": "@jupyter-widgets/controls",
     "model_module_version": "1.5.0",
     "model_name": "DescriptionStyleModel",
     "state": {
      "_model_module": "@jupyter-widgets/controls",
      "_model_module_version": "1.5.0",
      "_model_name": "DescriptionStyleModel",
      "_view_count": null,
      "_view_module": "@jupyter-widgets/base",
      "_view_module_version": "1.2.0",
      "_view_name": "StyleView",
      "description_width": ""
     }
    },
    "e7534fee1e8c4b099c1922e2360d5459": {
     "model_module": "@jupyter-widgets/base",
     "model_module_version": "1.2.0",
     "model_name": "LayoutModel",
     "state": {
      "_model_module": "@jupyter-widgets/base",
      "_model_module_version": "1.2.0",
      "_model_name": "LayoutModel",
      "_view_count": null,
      "_view_module": "@jupyter-widgets/base",
      "_view_module_version": "1.2.0",
      "_view_name": "LayoutView",
      "align_content": null,
      "align_items": null,
      "align_self": null,
      "border": null,
      "bottom": null,
      "display": null,
      "flex": null,
      "flex_flow": null,
      "grid_area": null,
      "grid_auto_columns": null,
      "grid_auto_flow": null,
      "grid_auto_rows": null,
      "grid_column": null,
      "grid_gap": null,
      "grid_row": null,
      "grid_template_areas": null,
      "grid_template_columns": null,
      "grid_template_rows": null,
      "height": null,
      "justify_content": null,
      "justify_items": null,
      "left": null,
      "margin": null,
      "max_height": null,
      "max_width": null,
      "min_height": null,
      "min_width": null,
      "object_fit": null,
      "object_position": null,
      "order": null,
      "overflow": null,
      "overflow_x": null,
      "overflow_y": null,
      "padding": null,
      "right": null,
      "top": null,
      "visibility": null,
      "width": null
     }
    },
    "e8d4d6ecd06a4e5db72690a07218e55b": {
     "model_module": "@jupyter-widgets/controls",
     "model_module_version": "1.5.0",
     "model_name": "FloatProgressModel",
     "state": {
      "_dom_classes": [],
      "_model_module": "@jupyter-widgets/controls",
      "_model_module_version": "1.5.0",
      "_model_name": "FloatProgressModel",
      "_view_count": null,
      "_view_module": "@jupyter-widgets/controls",
      "_view_module_version": "1.5.0",
      "_view_name": "ProgressView",
      "bar_style": "success",
      "description": "",
      "description_tooltip": null,
      "layout": "IPY_MODEL_b1d6f2469ad440fc83453f57a549a91e",
      "max": 13,
      "min": 0,
      "orientation": "horizontal",
      "style": "IPY_MODEL_5bbf1cb462d049ad88d8499bab6cc95b",
      "value": 13
     }
    },
    "ebc772528cf84271998836470aeba36c": {
     "model_module": "@jupyter-widgets/base",
     "model_module_version": "1.2.0",
     "model_name": "LayoutModel",
     "state": {
      "_model_module": "@jupyter-widgets/base",
      "_model_module_version": "1.2.0",
      "_model_name": "LayoutModel",
      "_view_count": null,
      "_view_module": "@jupyter-widgets/base",
      "_view_module_version": "1.2.0",
      "_view_name": "LayoutView",
      "align_content": null,
      "align_items": null,
      "align_self": null,
      "border": null,
      "bottom": null,
      "display": null,
      "flex": null,
      "flex_flow": null,
      "grid_area": null,
      "grid_auto_columns": null,
      "grid_auto_flow": null,
      "grid_auto_rows": null,
      "grid_column": null,
      "grid_gap": null,
      "grid_row": null,
      "grid_template_areas": null,
      "grid_template_columns": null,
      "grid_template_rows": null,
      "height": null,
      "justify_content": null,
      "justify_items": null,
      "left": null,
      "margin": null,
      "max_height": null,
      "max_width": null,
      "min_height": null,
      "min_width": null,
      "object_fit": null,
      "object_position": null,
      "order": null,
      "overflow": null,
      "overflow_x": null,
      "overflow_y": null,
      "padding": null,
      "right": null,
      "top": null,
      "visibility": null,
      "width": null
     }
    },
    "f50b59266ff241b79ff92690b3639788": {
     "model_module": "@jupyter-widgets/base",
     "model_module_version": "1.2.0",
     "model_name": "LayoutModel",
     "state": {
      "_model_module": "@jupyter-widgets/base",
      "_model_module_version": "1.2.0",
      "_model_name": "LayoutModel",
      "_view_count": null,
      "_view_module": "@jupyter-widgets/base",
      "_view_module_version": "1.2.0",
      "_view_name": "LayoutView",
      "align_content": null,
      "align_items": null,
      "align_self": null,
      "border": null,
      "bottom": null,
      "display": null,
      "flex": null,
      "flex_flow": null,
      "grid_area": null,
      "grid_auto_columns": null,
      "grid_auto_flow": null,
      "grid_auto_rows": null,
      "grid_column": null,
      "grid_gap": null,
      "grid_row": null,
      "grid_template_areas": null,
      "grid_template_columns": null,
      "grid_template_rows": null,
      "height": null,
      "justify_content": null,
      "justify_items": null,
      "left": null,
      "margin": null,
      "max_height": null,
      "max_width": null,
      "min_height": null,
      "min_width": null,
      "object_fit": null,
      "object_position": null,
      "order": null,
      "overflow": null,
      "overflow_x": null,
      "overflow_y": null,
      "padding": null,
      "right": null,
      "top": null,
      "visibility": null,
      "width": null
     }
    }
   }
  }
 },
 "nbformat": 4,
 "nbformat_minor": 1
}
