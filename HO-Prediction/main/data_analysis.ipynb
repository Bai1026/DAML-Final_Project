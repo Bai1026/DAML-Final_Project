{
 "cells": [
  {
   "cell_type": "code",
   "execution_count": 2,
   "id": "e6c84d76",
   "metadata": {},
   "outputs": [],
   "source": [
    "import os\n",
    "import pandas as pd\n",
    "import matplotlib.pyplot as plt"
   ]
  },
  {
   "cell_type": "code",
   "execution_count": 27,
   "id": "3c9c99e9",
   "metadata": {},
   "outputs": [
    {
     "data": {
      "text/plain": [
       "(125, 35, 18, 10, 10, 10, 10, 8, 4, 8, 2, 4, 6)"
      ]
     },
     "execution_count": 27,
     "metadata": {},
     "output_type": "execute_result"
    }
   ],
   "source": [
    "dirname = \"/home/wmnlab/Documents/sheng-ru/data/single\"\n",
    "dir_list = os.listdir(dirname)\n",
    "\n",
    "all_lists = [ f for f in dir_list if ('All' in f ) and (f.endswith('.csv')) ]\n",
    "LTE_lists = [ f for f in dir_list if ('LTE' in f ) and (f.endswith('.csv')) ]\n",
    "B1_lists = [ f for f in dir_list if ('_B1.' in f ) and (f.endswith('.csv')) ]\n",
    "B3_lists = [ f for f in dir_list if ('_B3.' in f ) and (f.endswith('.csv')) ] \n",
    "B7_lists = [ f for f in dir_list if ('_B7.' in f ) and (f.endswith('.csv')) ]\n",
    "B8_lists = [ f for f in dir_list if ('_B8.' in f ) and (f.endswith('.csv')) ]\n",
    "B1B3_lists = [ f for f in dir_list if ('B1B3' in f ) and (f.endswith('.csv')) ]\n",
    "B1B7_lists = [ f for f in dir_list if ('B1B7' in f ) and (f.endswith('.csv')) ]\n",
    "B1B8_lists = [ f for f in dir_list if ('B1B8' in f ) and (f.endswith('.csv')) ]\n",
    "B3B7_lists = [ f for f in dir_list if ('B3B7' in f ) and (f.endswith('.csv')) ]\n",
    "B3B8_lists = [ f for f in dir_list if ('B3B8' in f ) and (f.endswith('.csv')) ]\n",
    "B7B8_lists = [ f for f in dir_list if ('B7B8' in f ) and (f.endswith('.csv')) ]\n",
    "\n",
    "len(dir_list), len(all_lists), len(LTE_lists), len(B1_lists), len(B3_lists), len(B7_lists), len(B8_lists), len(B1B3_lists), len(B1B7_lists), len(B1B8_lists), len(B3B7_lists), len(B3B8_lists), len(B7B8_lists)"
   ]
  },
  {
   "cell_type": "code",
   "execution_count": 34,
   "id": "ee05e336",
   "metadata": {},
   "outputs": [
    {
     "data": {
      "text/plain": [
       "(['2023-04-01_#04_B1.csv',\n",
       "  '2023-04-01_#01_B1.csv',\n",
       "  '2023-04-10_#02_B1.csv',\n",
       "  '2023-04-10_#01_B1.csv',\n",
       "  '2023-04-01_#05_B1.csv',\n",
       "  '2023-04-17_#02_B1.csv',\n",
       "  '2023-04-01_#03_B1.csv',\n",
       "  '2023-04-01_#06_B1.csv',\n",
       "  '2023-04-01_#02_B1.csv',\n",
       "  '2023-04-17_#01_B1.csv'],\n",
       " ['2023-04-17_#01_B3.csv',\n",
       "  '2023-04-01_#06_B3.csv',\n",
       "  '2023-04-17_#02_B3.csv',\n",
       "  '2023-04-01_#04_B3.csv',\n",
       "  '2023-04-01_#02_B3.csv',\n",
       "  '2023-04-01_#01_B3.csv',\n",
       "  '2023-04-10_#02_B3.csv',\n",
       "  '2023-04-01_#05_B3.csv',\n",
       "  '2023-04-10_#01_B3.csv',\n",
       "  '2023-04-01_#03_B3.csv'])"
      ]
     },
     "execution_count": 34,
     "metadata": {},
     "output_type": "execute_result"
    }
   ],
   "source": [
    "B1_lists, B3_lists#, B7_lists, B8_lists"
   ]
  },
  {
   "cell_type": "code",
   "execution_count": null,
   "id": "ddd2eabd",
   "metadata": {},
   "outputs": [],
   "source": []
  }
 ],
 "metadata": {
  "kernelspec": {
   "display_name": "Python 3 (ipykernel)",
   "language": "python",
   "name": "python3"
  },
  "language_info": {
   "codemirror_mode": {
    "name": "ipython",
    "version": 3
   },
   "file_extension": ".py",
   "mimetype": "text/x-python",
   "name": "python",
   "nbconvert_exporter": "python",
   "pygments_lexer": "ipython3",
   "version": "3.10.11"
  }
 },
 "nbformat": 4,
 "nbformat_minor": 5
}
